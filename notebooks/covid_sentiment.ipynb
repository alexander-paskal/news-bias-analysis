{
 "cells": [
  {
   "cell_type": "code",
   "execution_count": 21,
   "metadata": {
    "id": "oYxFv5yQ55Id"
   },
   "outputs": [
    {
     "name": "stderr",
     "output_type": "stream",
     "text": [
      "[nltk_data] Downloading package wordnet to\n",
      "[nltk_data]     C:\\Users\\taoji\\AppData\\Roaming\\nltk_data...\n",
      "[nltk_data]   Package wordnet is already up-to-date!\n",
      "[nltk_data] Downloading package punkt to\n",
      "[nltk_data]     C:\\Users\\taoji\\AppData\\Roaming\\nltk_data...\n",
      "[nltk_data]   Unzipping tokenizers\\punkt.zip.\n"
     ]
    },
    {
     "data": {
      "text/plain": [
       "True"
      ]
     },
     "execution_count": 21,
     "metadata": {},
     "output_type": "execute_result"
    }
   ],
   "source": [
    "import requests\n",
    "import json\n",
    "import numpy as np\n",
    "import pandas as pd\n",
    "import nltk \n",
    "import matplotlib\n",
    "from nltk.tokenize import sent_tokenize, word_tokenize\n",
    "from nltk.corpus import stopwords\n",
    "from string import punctuation\n",
    "import re\n",
    "import numpy as np\n",
    "import nltk\n",
    "from nltk.tokenize import RegexpTokenizer\n",
    "from nltk.stem import WordNetLemmatizer\n",
    "from rake_nltk import Rake\n",
    "nltk.download('wordnet')\n",
    "nltk.download('punkt')"
   ]
  },
  {
   "cell_type": "code",
   "execution_count": 7,
   "metadata": {
    "id": "8cTVEdRs6CYc"
   },
   "outputs": [],
   "source": [
    "url = 'https://newsapi.org/v2/everything?'\n",
    "api_key = \"c31d9f572e5d47eeaae9d16463d0c921\""
   ]
  },
  {
   "cell_type": "code",
   "execution_count": 8,
   "metadata": {},
   "outputs": [
    {
     "name": "stderr",
     "output_type": "stream",
     "text": [
      "[nltk_data] Downloading package vader_lexicon to\n",
      "[nltk_data]     C:\\Users\\taoji\\AppData\\Roaming\\nltk_data...\n",
      "[nltk_data]   Package vader_lexicon is already up-to-date!\n",
      "[nltk_data] Downloading package stopwords to\n",
      "[nltk_data]     C:\\Users\\taoji\\AppData\\Roaming\\nltk_data...\n",
      "[nltk_data]   Package stopwords is already up-to-date!\n"
     ]
    },
    {
     "data": {
      "text/plain": [
       "True"
      ]
     },
     "execution_count": 8,
     "metadata": {},
     "output_type": "execute_result"
    }
   ],
   "source": [
    "# for downloading the lexicon\n",
    "nltk.download('vader_lexicon')\n",
    "nltk.download('stopwords')"
   ]
  },
  {
   "cell_type": "code",
   "execution_count": 9,
   "metadata": {
    "id": "dFeFYNyw6DzG"
   },
   "outputs": [],
   "source": [
    "def get_articles(file):\n",
    "    '''\n",
    "    This is a helper function the extract articles from the newsapi dataset\n",
    "    ''' \n",
    "\n",
    "\n",
    "    article_results = [] \n",
    "    for i in range(len(file)):\n",
    "        article_dict = {}\n",
    "        article_dict['title'] = file[i]['title']\n",
    "        article_dict['author'] = file[i]['author']\n",
    "        article_dict['source'] = file[i]['source']\n",
    "        article_dict['description'] = file[i]['description']\n",
    "        article_dict['content'] = file[i]['content']\n",
    "        article_dict['pub_date'] = file[i]['publishedAt']\n",
    "        article_dict['url'] = file[i][\"url\"]\n",
    "        article_dict['photo_url'] = file[i]['urlToImage']\n",
    "        article_results.append(article_dict)\n",
    "    return article_results\n",
    "\n",
    "def get_news_articles(source: str, topic: str):\n",
    "    '''\n",
    "    Returns the dataframe from newsource and topic\n",
    "    Input: str,str\n",
    "    Output: pd frame\n",
    "    '''\n",
    "\n",
    "    assert isinstance(source,str)\n",
    "    assert isinstance(topic,str)\n",
    "\n",
    "    \n",
    "    parameters_headlines = {\n",
    "    'q': topic,\n",
    "    'sortBy':'popularity',\n",
    "    'pageSize': 100,\n",
    "    'apiKey': api_key,\n",
    "    'language': 'en',\n",
    "    'domains' : format(source)  \n",
    "    }\n",
    "\n",
    "    # making the API call \n",
    "    response_headline = requests.get(url, params = parameters_headlines)\n",
    "    response_json_headline = response_headline.json()\n",
    "    responses = response_json_headline[\"articles\"]\n",
    "    # transforminf the data from JSON dictionary to a pandas data frame\n",
    "    news_articles_df = pd.DataFrame(get_articles(responses))\n",
    "    # printing the head to check the format and the working of the get_articles function\n",
    "    return news_articles_df"
   ]
  },
  {
   "cell_type": "code",
   "execution_count": 10,
   "metadata": {},
   "outputs": [],
   "source": [
    "def source_getter(df):\n",
    "    source = []\n",
    "    for source_dict in df['source']:\n",
    "        source.append(source_dict['name'])\n",
    "    df['source'] = source #append the source to the df"
   ]
  },
  {
   "cell_type": "code",
   "execution_count": 11,
   "metadata": {
    "id": "hdSjmD-46E24"
   },
   "outputs": [],
   "source": [
    "cnn_covidf = get_news_articles(\"cnn.com\",\"covid\")     #cnn covid frame\n",
    "fox_covidf = get_news_articles(\"foxnews.com\",\"covid\") #fox covid frame\n",
    "source_getter(cnn_covidf)\n",
    "source_getter(fox_covidf)\n",
    "cnn_covidf['pub_date'] = pd.to_datetime(cnn_covidf['pub_date']).apply(lambda x: x.date())\n",
    "fox_covidf['pub_date'] = pd.to_datetime(fox_covidf['pub_date']).apply(lambda x: x.date())"
   ]
  },
  {
   "cell_type": "code",
   "execution_count": 12,
   "metadata": {},
   "outputs": [
    {
     "data": {
      "text/plain": [
       "0    2021-11-09\n",
       "1    2021-11-04\n",
       "2    2021-10-19\n",
       "3    2021-11-05\n",
       "4    2021-11-18\n",
       "Name: pub_date, dtype: object"
      ]
     },
     "execution_count": 12,
     "metadata": {},
     "output_type": "execute_result"
    }
   ],
   "source": [
    "cnn_covidf['pub_date'].head()"
   ]
  },
  {
   "cell_type": "code",
   "execution_count": 13,
   "metadata": {},
   "outputs": [
    {
     "name": "stdout",
     "output_type": "stream",
     "text": [
      "title          0\n",
      "author         0\n",
      "source         0\n",
      "description    0\n",
      "content        0\n",
      "pub_date       0\n",
      "url            0\n",
      "photo_url      0\n",
      "dtype: int64\n",
      "(95, 8)\n"
     ]
    }
   ],
   "source": [
    "cnn_covidf.dropna(inplace=True)\n",
    "cnn_covidf = cnn_covidf[~cnn_covidf['description'].isnull()]\n",
    "# summarize the number of rows and columns in the dataset\n",
    "print(cnn_covidf.isnull().sum())\n",
    "print(cnn_covidf.shape)"
   ]
  },
  {
   "cell_type": "code",
   "execution_count": 14,
   "metadata": {},
   "outputs": [
    {
     "name": "stdout",
     "output_type": "stream",
     "text": [
      "title          0\n",
      "author         0\n",
      "source         0\n",
      "description    0\n",
      "content        0\n",
      "pub_date       0\n",
      "url            0\n",
      "photo_url      0\n",
      "dtype: int64\n",
      "(99, 8)\n"
     ]
    }
   ],
   "source": [
    "fox_covidf.dropna(inplace=True)\n",
    "fox_covidf = fox_covidf[~fox_covidf['description'].isnull()]\n",
    "# summarize the number of rows and columns in the dataset\n",
    "print(fox_covidf.isnull().sum())\n",
    "print(fox_covidf.shape)"
   ]
  },
  {
   "cell_type": "code",
   "execution_count": 15,
   "metadata": {},
   "outputs": [
    {
     "data": {
      "text/html": [
       "<div>\n",
       "<style scoped>\n",
       "    .dataframe tbody tr th:only-of-type {\n",
       "        vertical-align: middle;\n",
       "    }\n",
       "\n",
       "    .dataframe tbody tr th {\n",
       "        vertical-align: top;\n",
       "    }\n",
       "\n",
       "    .dataframe thead th {\n",
       "        text-align: right;\n",
       "    }\n",
       "</style>\n",
       "<table border=\"1\" class=\"dataframe\">\n",
       "  <thead>\n",
       "    <tr style=\"text-align: right;\">\n",
       "      <th></th>\n",
       "      <th>title</th>\n",
       "      <th>author</th>\n",
       "      <th>source</th>\n",
       "      <th>description</th>\n",
       "      <th>content</th>\n",
       "      <th>pub_date</th>\n",
       "      <th>url</th>\n",
       "      <th>photo_url</th>\n",
       "      <th>combined_text</th>\n",
       "    </tr>\n",
       "  </thead>\n",
       "  <tbody>\n",
       "    <tr>\n",
       "      <th>1</th>\n",
       "      <td>Indian homegrown Covid-19 shot wins WHO emerge...</td>\n",
       "      <td>Story by Reuters</td>\n",
       "      <td>CNN</td>\n",
       "      <td>The World Health Organization (WHO) said on We...</td>\n",
       "      <td>The World Health Organization (WHO) said on We...</td>\n",
       "      <td>2021-11-04</td>\n",
       "      <td>https://www.cnn.com/2021/11/03/asia/india-cova...</td>\n",
       "      <td>https://cdn.cnn.com/cnnnext/dam/assets/2111032...</td>\n",
       "      <td>Indian homegrown Covid-19 shot wins WHO emerge...</td>\n",
       "    </tr>\n",
       "    <tr>\n",
       "      <th>3</th>\n",
       "      <td>Even if they get breakthrough infections, vacc...</td>\n",
       "      <td>Maggie Fox, CNN</td>\n",
       "      <td>CNN</td>\n",
       "      <td>Even if they get a breakthrough infection, vac...</td>\n",
       "      <td>(CNN)Even if they get a breakthrough infection...</td>\n",
       "      <td>2021-11-05</td>\n",
       "      <td>https://www.cnn.com/2021/11/04/health/vaccines...</td>\n",
       "      <td>https://cdn.cnn.com/cnnnext/dam/assets/2111042...</td>\n",
       "      <td>Even if they get breakthrough infections, vacc...</td>\n",
       "    </tr>\n",
       "    <tr>\n",
       "      <th>4</th>\n",
       "      <td>How to prepare for another winter of Covid-19?...</td>\n",
       "      <td>Katia Hetter, CNN</td>\n",
       "      <td>CNN</td>\n",
       "      <td>CNN Medical Analyst Dr. Leana Wen shares what ...</td>\n",
       "      <td>(CNN)Winter is almost here. After weeks of ste...</td>\n",
       "      <td>2021-11-18</td>\n",
       "      <td>https://www.cnn.com/2021/11/18/health/winter-c...</td>\n",
       "      <td>https://cdn.cnn.com/cnnnext/dam/assets/2111171...</td>\n",
       "      <td>How to prepare for another winter of Covid-19?...</td>\n",
       "    </tr>\n",
       "    <tr>\n",
       "      <th>6</th>\n",
       "      <td>Fired Washington State head football coach to ...</td>\n",
       "      <td>Wayne Sterling, CNN</td>\n",
       "      <td>CNN</td>\n",
       "      <td>Former Washington State Cougars football coach...</td>\n",
       "      <td>(CNN)Former Washington State Cougars football ...</td>\n",
       "      <td>2021-10-20</td>\n",
       "      <td>https://www.cnn.com/2021/10/20/sport/rolovich-...</td>\n",
       "      <td>https://cdn.cnn.com/cnnnext/dam/assets/2110182...</td>\n",
       "      <td>Fired Washington State head football coach to ...</td>\n",
       "    </tr>\n",
       "    <tr>\n",
       "      <th>7</th>\n",
       "      <td>Biden administration plans to announce purchas...</td>\n",
       "      <td>Kaitlan Collins, CNN</td>\n",
       "      <td>CNN</td>\n",
       "      <td>The Biden administration plans to purchase 10 ...</td>\n",
       "      <td>(CNN)The Biden administration plans to purchas...</td>\n",
       "      <td>2021-11-16</td>\n",
       "      <td>https://www.cnn.com/2021/11/16/politics/pfizer...</td>\n",
       "      <td>https://cdn.cnn.com/cnnnext/dam/assets/2111051...</td>\n",
       "      <td>Biden administration plans to announce purchas...</td>\n",
       "    </tr>\n",
       "  </tbody>\n",
       "</table>\n",
       "</div>"
      ],
      "text/plain": [
       "                                               title                author  \\\n",
       "1  Indian homegrown Covid-19 shot wins WHO emerge...      Story by Reuters   \n",
       "3  Even if they get breakthrough infections, vacc...       Maggie Fox, CNN   \n",
       "4  How to prepare for another winter of Covid-19?...     Katia Hetter, CNN   \n",
       "6  Fired Washington State head football coach to ...   Wayne Sterling, CNN   \n",
       "7  Biden administration plans to announce purchas...  Kaitlan Collins, CNN   \n",
       "\n",
       "  source                                        description  \\\n",
       "1    CNN  The World Health Organization (WHO) said on We...   \n",
       "3    CNN  Even if they get a breakthrough infection, vac...   \n",
       "4    CNN  CNN Medical Analyst Dr. Leana Wen shares what ...   \n",
       "6    CNN  Former Washington State Cougars football coach...   \n",
       "7    CNN  The Biden administration plans to purchase 10 ...   \n",
       "\n",
       "                                             content    pub_date  \\\n",
       "1  The World Health Organization (WHO) said on We...  2021-11-04   \n",
       "3  (CNN)Even if they get a breakthrough infection...  2021-11-05   \n",
       "4  (CNN)Winter is almost here. After weeks of ste...  2021-11-18   \n",
       "6  (CNN)Former Washington State Cougars football ...  2021-10-20   \n",
       "7  (CNN)The Biden administration plans to purchas...  2021-11-16   \n",
       "\n",
       "                                                 url  \\\n",
       "1  https://www.cnn.com/2021/11/03/asia/india-cova...   \n",
       "3  https://www.cnn.com/2021/11/04/health/vaccines...   \n",
       "4  https://www.cnn.com/2021/11/18/health/winter-c...   \n",
       "6  https://www.cnn.com/2021/10/20/sport/rolovich-...   \n",
       "7  https://www.cnn.com/2021/11/16/politics/pfizer...   \n",
       "\n",
       "                                           photo_url  \\\n",
       "1  https://cdn.cnn.com/cnnnext/dam/assets/2111032...   \n",
       "3  https://cdn.cnn.com/cnnnext/dam/assets/2111042...   \n",
       "4  https://cdn.cnn.com/cnnnext/dam/assets/2111171...   \n",
       "6  https://cdn.cnn.com/cnnnext/dam/assets/2110182...   \n",
       "7  https://cdn.cnn.com/cnnnext/dam/assets/2111051...   \n",
       "\n",
       "                                       combined_text  \n",
       "1  Indian homegrown Covid-19 shot wins WHO emerge...  \n",
       "3  Even if they get breakthrough infections, vacc...  \n",
       "4  How to prepare for another winter of Covid-19?...  \n",
       "6  Fired Washington State head football coach to ...  \n",
       "7  Biden administration plans to announce purchas...  "
      ]
     },
     "execution_count": 15,
     "metadata": {},
     "output_type": "execute_result"
    }
   ],
   "source": [
    "cnn_covidf['combined_text'] = cnn_covidf['title'].map(str) +\" \"+ cnn_covidf['content'].map(str) \n",
    "fox_covidf['combined_text'] = fox_covidf['title'].map(str) +\" \"+ fox_covidf['content'].map(str) \n",
    "cnn_covidf.head()"
   ]
  },
  {
   "cell_type": "code",
   "execution_count": 16,
   "metadata": {},
   "outputs": [],
   "source": [
    "def _removeNonAscii(s): \n",
    "    return \"\".join(i for i in s if ord(i)<128)\n",
    "# function to remove the punctuations, apostrophe, special characters using regular expressions\n",
    "def clean_text(text):\n",
    "    text = text.lower()\n",
    "    text = re.sub(r\"what's\", \"what is \", text)\n",
    "    text = text.replace('(ap)', '')\n",
    "    text = re.sub(r\"\\'s\", \" is \", text)\n",
    "    text = re.sub(r\"\\'ve\", \" have \", text)\n",
    "    text = re.sub(r\"can't\", \"cannot \", text)\n",
    "    text = re.sub(r\"n't\", \" not \", text)\n",
    "    text = re.sub(r\"i'm\", \"i am \", text)\n",
    "    text = re.sub(r\"\\'re\", \" are \", text)\n",
    "    text = re.sub(r\"\\'d\", \" would \", text)\n",
    "    text = re.sub(r\"\\'ll\", \" will \", text)\n",
    "    text = re.sub(r'\\W+', ' ', text)\n",
    "    text = re.sub(r'\\s+', ' ', text)\n",
    "    text = re.sub(r\"\\\\\", \"\", text)\n",
    "    text = re.sub(r\"\\'\", \"\", text)    \n",
    "    text = re.sub(r\"\\\"\", \"\", text)\n",
    "    text = re.sub('[^a-zA-Z ?!]+', '', text)\n",
    "    text = _removeNonAscii(text)\n",
    "    text = text.strip()\n",
    "    return text\n",
    "# stop words are the words that convery little to no information about the actual content like the words:the, of, for etc\n",
    "def remove_stopwords(word_tokens):\n",
    "    filtered_sentence = [] \n",
    "    stop_words = stopwords.words('english')\n",
    "    specific_words_list = ['char', 'u', 'hindustan', 'doj', 'washington'] \n",
    "    stop_words.extend(specific_words_list )\n",
    "    for w in word_tokens: \n",
    "        if w not in stop_words: \n",
    "            filtered_sentence.append(w) \n",
    "    return filtered_sentence\n",
    "# function for lemmatization \n",
    "def lemmatize(x):\n",
    "    lemmatizer = WordNetLemmatizer()\n",
    "    return' '.join([lemmatizer.lemmatize(word) for word in x])"
   ]
  },
  {
   "cell_type": "code",
   "execution_count": 17,
   "metadata": {},
   "outputs": [],
   "source": [
    "tokenizer = RegexpTokenizer(r'\\w+')\n",
    "def tokenize(x): \n",
    "    return tokenizer.tokenize(x)"
   ]
  },
  {
   "cell_type": "code",
   "execution_count": 18,
   "metadata": {},
   "outputs": [],
   "source": [
    "cnn_covidf['combined_text'] = cnn_covidf['combined_text'].map(clean_text)\n",
    "cnn_covidf['tokens'] = cnn_covidf['combined_text'].map(tokenize)\n",
    "cnn_covidf['tokens'] = cnn_covidf['tokens'].map(remove_stopwords)\n",
    "cnn_covidf['lems'] =cnn_covidf['tokens'].map(lemmatize)"
   ]
  },
  {
   "cell_type": "code",
   "execution_count": 19,
   "metadata": {},
   "outputs": [],
   "source": [
    "fox_covidf['combined_text'] = fox_covidf['combined_text'].map(clean_text)\n",
    "fox_covidf['tokens'] = fox_covidf['combined_text'].map(tokenize)\n",
    "fox_covidf['tokens'] = fox_covidf['tokens'].map(remove_stopwords)\n",
    "fox_covidf['lems'] =fox_covidf['tokens'].map(lemmatize)"
   ]
  },
  {
   "cell_type": "code",
   "execution_count": 25,
   "metadata": {},
   "outputs": [],
   "source": [
    "cnn_covidf['keywords'] = \"\"\n",
    "for index,row in cnn_covidf.iterrows():\n",
    "    comb_text = row['combined_text']\n",
    "    r = Rake()\n",
    "    r.extract_keywords_from_text(comb_text)\n",
    "    key_words_dict = r.get_word_degrees()\n",
    "    row['keywords'] = list(key_words_dict.keys())\n",
    "    \n",
    "cnn_covidf['keywords'] = cnn_covidf['keywords'].map(remove_stopwords)\n",
    "cnn_covidf['lems'] =cnn_covidf['keywords'].map(lemmatize)\n",
    "cnn_covidf.head()"
   ]
  },
  {
   "cell_type": "code",
   "execution_count": 27,
   "metadata": {
    "id": "KW_e7z6W6zr4"
   },
   "outputs": [],
   "source": [
    "def get_senti_frame(frame = None, download = False):\n",
    "\n",
    "    '''\n",
    "    Returns a dataframe with sentiment scores extracted using nltk vader\n",
    "    Input: pd frame, bool\n",
    "    Output: pd frame\n",
    "    '''\n",
    "    \n",
    "    assert isinstance(download,bool)\n",
    "\n",
    "    from nltk.sentiment.vader import SentimentIntensityAnalyzer as SIA\n",
    "    if(download):nltk.download('vader_lexicon')\n",
    "    sia = SIA()\n",
    "    results = []\n",
    "    titles = frame[\"lems\"]\n",
    "\n",
    "    for line in titles:\n",
    "        pol_score = sia.polarity_scores(line)\n",
    "        pol_score['headline'] = line\n",
    "        results.append(pol_score)\n",
    "    \n",
    "    df = pd.DataFrame.from_records(results)\n",
    "    df['label'] = 0\n",
    "    df.loc[df['compound'] > 0.2, 'label'] = 1\n",
    "    df.loc[df['compound'] < -0.2, 'label'] = -1\n",
    "    df['word_count'] = df['headline'].apply(lambda x: len(str(x).split()))\n",
    "    return df"
   ]
  },
  {
   "cell_type": "code",
   "execution_count": 28,
   "metadata": {
    "colab": {
     "base_uri": "https://localhost:8080/"
    },
    "id": "Lk7tj67DHs9R",
    "outputId": "d04385e3-7f34-43fc-9e2f-a2e751e373e9"
   },
   "outputs": [],
   "source": [
    "cnn_sframe = get_senti_frame(cnn_covidf,False)\n",
    "fox_sframe = get_senti_frame(fox_covidf,False)"
   ]
  },
  {
   "cell_type": "markdown",
   "metadata": {
    "id": "FbT8Q-C7JDx8"
   },
   "source": [
    "Here we show the processed sentiment dataframe, where 0 represents neutral, -1 represents negative, and 1 represents postive. Sentiment were calculated based on the headlines of the news"
   ]
  },
  {
   "cell_type": "code",
   "execution_count": 29,
   "metadata": {
    "colab": {
     "base_uri": "https://localhost:8080/",
     "height": 204
    },
    "id": "IuTlJ1jvIn0s",
    "outputId": "0db69ece-2c57-471f-b7b5-6f655d8cf01a"
   },
   "outputs": [
    {
     "data": {
      "text/html": [
       "<div>\n",
       "<style scoped>\n",
       "    .dataframe tbody tr th:only-of-type {\n",
       "        vertical-align: middle;\n",
       "    }\n",
       "\n",
       "    .dataframe tbody tr th {\n",
       "        vertical-align: top;\n",
       "    }\n",
       "\n",
       "    .dataframe thead th {\n",
       "        text-align: right;\n",
       "    }\n",
       "</style>\n",
       "<table border=\"1\" class=\"dataframe\">\n",
       "  <thead>\n",
       "    <tr style=\"text-align: right;\">\n",
       "      <th></th>\n",
       "      <th>neg</th>\n",
       "      <th>neu</th>\n",
       "      <th>pos</th>\n",
       "      <th>compound</th>\n",
       "      <th>headline</th>\n",
       "      <th>label</th>\n",
       "      <th>word_count</th>\n",
       "    </tr>\n",
       "  </thead>\n",
       "  <tbody>\n",
       "    <tr>\n",
       "      <th>0</th>\n",
       "      <td>0.083</td>\n",
       "      <td>0.635</td>\n",
       "      <td>0.283</td>\n",
       "      <td>0.7430</td>\n",
       "      <td>indian homegrown covid shot win emergency use ...</td>\n",
       "      <td>1</td>\n",
       "      <td>24</td>\n",
       "    </tr>\n",
       "    <tr>\n",
       "      <th>1</th>\n",
       "      <td>0.130</td>\n",
       "      <td>0.787</td>\n",
       "      <td>0.083</td>\n",
       "      <td>-0.2960</td>\n",
       "      <td>even get breakthrough infection vaccinated peo...</td>\n",
       "      <td>-1</td>\n",
       "      <td>22</td>\n",
       "    </tr>\n",
       "    <tr>\n",
       "      <th>2</th>\n",
       "      <td>0.000</td>\n",
       "      <td>1.000</td>\n",
       "      <td>0.000</td>\n",
       "      <td>0.0000</td>\n",
       "      <td>prepare another winter covid expert weight cnn...</td>\n",
       "      <td>0</td>\n",
       "      <td>20</td>\n",
       "    </tr>\n",
       "    <tr>\n",
       "      <th>3</th>\n",
       "      <td>0.382</td>\n",
       "      <td>0.579</td>\n",
       "      <td>0.039</td>\n",
       "      <td>-0.9186</td>\n",
       "      <td>fired state head football coach file lawsuit u...</td>\n",
       "      <td>-1</td>\n",
       "      <td>28</td>\n",
       "    </tr>\n",
       "    <tr>\n",
       "      <th>4</th>\n",
       "      <td>0.000</td>\n",
       "      <td>1.000</td>\n",
       "      <td>0.000</td>\n",
       "      <td>0.0000</td>\n",
       "      <td>biden administration plan announce purchase pf...</td>\n",
       "      <td>0</td>\n",
       "      <td>19</td>\n",
       "    </tr>\n",
       "  </tbody>\n",
       "</table>\n",
       "</div>"
      ],
      "text/plain": [
       "     neg    neu    pos  compound  \\\n",
       "0  0.083  0.635  0.283    0.7430   \n",
       "1  0.130  0.787  0.083   -0.2960   \n",
       "2  0.000  1.000  0.000    0.0000   \n",
       "3  0.382  0.579  0.039   -0.9186   \n",
       "4  0.000  1.000  0.000    0.0000   \n",
       "\n",
       "                                            headline  label  word_count  \n",
       "0  indian homegrown covid shot win emergency use ...      1          24  \n",
       "1  even get breakthrough infection vaccinated peo...     -1          22  \n",
       "2  prepare another winter covid expert weight cnn...      0          20  \n",
       "3  fired state head football coach file lawsuit u...     -1          28  \n",
       "4  biden administration plan announce purchase pf...      0          19  "
      ]
     },
     "execution_count": 29,
     "metadata": {},
     "output_type": "execute_result"
    }
   ],
   "source": [
    "cnn_sframe.head()"
   ]
  },
  {
   "cell_type": "markdown",
   "metadata": {
    "id": "Rh0xHr-eJUBa"
   },
   "source": [
    "Next, we show some samples of the postively labeled  ande negative sentiment headlines"
   ]
  },
  {
   "cell_type": "code",
   "execution_count": 30,
   "metadata": {
    "colab": {
     "base_uri": "https://localhost:8080/"
    },
    "id": "4PFUZTVgJPmA",
    "outputId": "e0f3628e-de09-4687-c039-dd90af1ad7a7"
   },
   "outputs": [
    {
     "name": "stdout",
     "output_type": "stream",
     "text": [
      "indian homegrown covid shot win emergency use approval world health organization said wednesday granted drugmaker bharat biotech home grown vaccine listing paving way char\n",
      "uk authorizes merck ridgeback biotherapeutics antiviral pill treat covid cnn medicine healthcare product regulatory agency said thursday authorized oral molnupiravir mild moderate char\n",
      "u set join small club nation vaccinating young child weekly edition cnn coronavirus newsletter look roundup every wednesday subscribed yet sign decision closely watched parent char\n"
     ]
    }
   ],
   "source": [
    "positive_cnn = cnn_sframe[cnn_sframe[\"label\"] == 1][\"headline\"]\n",
    "print(positive_cnn.iloc[0])\n",
    "print(positive_cnn.iloc[2])\n",
    "print(positive_cnn.iloc[5])"
   ]
  },
  {
   "cell_type": "code",
   "execution_count": 31,
   "metadata": {
    "colab": {
     "base_uri": "https://localhost:8080/"
    },
    "id": "xWfVYRYvJq5C",
    "outputId": "df702791-9fab-47c6-db60-0c7d160b6f5e"
   },
   "outputs": [
    {
     "name": "stdout",
     "output_type": "stream",
     "text": [
      "even get breakthrough infection vaccinated people sick covid study show cnn infection two different team researcher reported thursday vaccine strongly prote char\n",
      "get covid vaccine appointment child cnn health official u issued emergency use authorization younger child next step vaccinating family finding nearest dose char\n",
      "new york grand jury indicts robert durst murder charge cnn notorious subject hbo docuseries jinx convicted murderer indicted monday westchester county separate char\n"
     ]
    }
   ],
   "source": [
    "positive_cnn = cnn_sframe[cnn_sframe[\"label\"] == -1][\"headline\"]\n",
    "print(positive_cnn.iloc[0])\n",
    "print(positive_cnn.iloc[2])\n",
    "print(positive_cnn.iloc[5])"
   ]
  },
  {
   "cell_type": "code",
   "execution_count": 33,
   "metadata": {
    "id": "e76lE5bEIUjV"
   },
   "outputs": [],
   "source": [
    "import matplotlib.pyplot as plt\n",
    "import seaborn as sns\n",
    "\n",
    "def plot(df,title:str):\n",
    "    '''\n",
    "      Given a sentiment frame, plot the sentiment\n",
    "    '''\n",
    "  \n",
    "    assert isinstance(title,str)\n",
    "\n",
    "    fig, ax = plt.subplots(figsize=(8, 8))\n",
    "\n",
    "    counts = df.label.value_counts(normalize=True) * 100\n",
    "\n",
    "    sns.barplot(x=counts.index, y=counts, ax=ax)\n",
    "\n",
    "    ax.set_xticklabels(['Negative', 'Neutral', 'Positive'])\n",
    "    ax.set_ylabel(\"Percentage\")\n",
    "    ax.set_title(title)\n",
    "    plt.show()"
   ]
  },
  {
   "cell_type": "code",
   "execution_count": 34,
   "metadata": {
    "colab": {
     "base_uri": "https://localhost:8080/",
     "height": 499
    },
    "id": "g_Rlf0jdLAo2",
    "outputId": "88bf9b95-80d1-48a8-b6cf-27fc1e186b74"
   },
   "outputs": [
    {
     "data": {
      "image/png": "[encoded data removed]",
      "text/plain": [
       "<Figure size 576x576 with 1 Axes>"
      ]
     },
     "metadata": {
      "needs_background": "light"
     },
     "output_type": "display_data"
    }
   ],
   "source": [
    "plot(cnn_sframe,\"Sentiment Distribution of CNN news related to COVID\")"
   ]
  },
  {
   "cell_type": "code",
   "execution_count": 35,
   "metadata": {
    "colab": {
     "base_uri": "https://localhost:8080/",
     "height": 499
    },
    "id": "84PbWm22Lx4k",
    "outputId": "46ef97da-b2bd-4787-8535-10fd5d9d46c7"
   },
   "outputs": [
    {
     "data": {
      "image/png": "[encoded data removed]",
      "text/plain": [
       "<Figure size 576x576 with 1 Axes>"
      ]
     },
     "metadata": {
      "needs_background": "light"
     },
     "output_type": "display_data"
    }
   ],
   "source": [
    "plot(fox_sframe,\"Sentiment Distribution of FOX news related to COVID\")"
   ]
  },
  {
   "cell_type": "code",
   "execution_count": null,
   "metadata": {},
   "outputs": [],
   "source": [
    "    "
   ]
  },
  {
   "cell_type": "code",
   "execution_count": 14,
   "metadata": {
    "id": "CHAwJkUTNbkS"
   },
   "outputs": [],
   "source": [
    "def get_word_freq(sframe,label,topk = 20,download = False):\n",
    "    '''\n",
    "    Returns the top words in the headlines given the label{1(pos), -1(negative)}\n",
    "    Input: data frame,data frame, int, int, bool\n",
    "          sframe: sentiment frame, df: news dataframe\n",
    "    Output: list of dict \n",
    "    '''\n",
    "\n",
    "    assert isinstance(label,int)\n",
    "    assert isinstance(download,bool)\n",
    "\n",
    "    from nltk.corpus import stopwords\n",
    "    from nltk.tokenize import word_tokenize, RegexpTokenizer\n",
    "    tokenizer = RegexpTokenizer(r'\\w+')\n",
    "    if download: nltk.download('stopwords')\n",
    "\n",
    "    stop_words = stopwords.words('english')\n",
    "    tokens = []\n",
    "\n",
    "\n",
    "    pos_lines = list(sframe[sframe.label == label].headline)\n",
    "\n",
    "    for line in pos_lines:\n",
    "        toks = tokenizer.tokenize(line)\n",
    "        toks = [t.lower() for t in toks if t.lower() not in stop_words]\n",
    "        tokens.extend(toks)\n",
    "    \n",
    "    pos_freq = nltk.FreqDist(tokens)\n",
    "    return pos_freq.most_common(topk) if topk is not None else pos_freq.most_common()\n",
    "\n",
    "    "
   ]
  },
  {
   "cell_type": "code",
   "execution_count": 15,
   "metadata": {
    "colab": {
     "base_uri": "https://localhost:8080/"
    },
    "id": "btgzBTVeOVYo",
    "outputId": "3f9b628a-20aa-443d-91b2-50d32704707a"
   },
   "outputs": [
    {
     "name": "stdout",
     "output_type": "stream",
     "text": [
      "[('chars', 33), ('cnn', 28), ('covid', 9), ('19', 9), ('new', 8), ('people', 6), ('2021', 5), ('wednesday', 5), ('vaccinated', 5), ('year', 5), ('york', 4), ('united', 4), ('health', 4), ('president', 4), ('pandemic', 4), ('november', 3), ('world', 3), ('vaccine', 3), ('get', 3), ('state', 3)]\n",
      "[('chars', 21), ('cnn', 20), ('covid', 7), ('19', 7), ('new', 6), ('york', 4), ('pandemic', 4), ('monday', 3), ('people', 3), ('trial', 3), ('late', 3), ('according', 3), ('business', 3), ('charges', 3), ('former', 2), ('state', 2), ('university', 2), ('following', 2), ('officials', 2), ('vaccine', 2)]\n"
     ]
    }
   ],
   "source": [
    "cnn_pos = get_word_freq(cnn_sframe,label = 1, topk = None)\n",
    "print(cnn_pos[:20])\n",
    "cnn_neg = get_word_freq(cnn_sframe,label = -1, topk = None)\n",
    "print(cnn_neg[:20])"
   ]
  },
  {
   "cell_type": "code",
   "execution_count": 16,
   "metadata": {
    "colab": {
     "base_uri": "https://localhost:8080/"
    },
    "id": "lOsGq9Z4T9vH",
    "outputId": "bbf45e71-2104-450a-b65f-c400fa732f32"
   },
   "outputs": [
    {
     "name": "stdout",
     "output_type": "stream",
     "text": [
      "[('chars', 33), ('cnn', 28), ('covid', 9), ('19', 9), ('new', 8), ('people', 6), ('2021', 5), ('wednesday', 5), ('vaccinated', 5), ('year', 5), ('york', 4), ('united', 4), ('health', 4), ('president', 4), ('pandemic', 4), ('november', 3), ('world', 3), ('vaccine', 3), ('get', 3), ('state', 3)]\n",
      "[('chars', 21), ('cnn', 20), ('covid', 7), ('19', 7), ('new', 6), ('york', 4), ('pandemic', 4), ('monday', 3), ('people', 3), ('trial', 3), ('late', 3), ('according', 3), ('business', 3), ('charges', 3), ('former', 2), ('state', 2), ('university', 2), ('following', 2), ('officials', 2), ('vaccine', 2)]\n"
     ]
    }
   ],
   "source": [
    "fox_pos = get_word_freq(fox_sframe,label = 1, topk = None)\n",
    "print(cnn_pos[:20])\n",
    "fox_neg = get_word_freq(fox_sframe,label = -1, topk = None)\n",
    "print(cnn_neg[:20])"
   ]
  },
  {
   "cell_type": "code",
   "execution_count": 17,
   "metadata": {
    "colab": {
     "base_uri": "https://localhost:8080/",
     "height": 350
    },
    "id": "syGiBTlIXhRU",
    "outputId": "66695890-8d39-45f8-958b-f582ede6a723"
   },
   "outputs": [
    {
     "data": {
      "image/png": "[encoded data removed]",
      "text/plain": [
       "<Figure size 720x360 with 1 Axes>"
      ]
     },
     "metadata": {
      "needs_background": "light"
     },
     "output_type": "display_data"
    }
   ],
   "source": [
    "positive = sorted(fox_pos + cnn_pos,key = lambda i: -i[1])\n",
    "y_val = [x[1] for x in positive]\n",
    "fig = plt.figure(figsize=(10,5))\n",
    "plt.plot(y_val)\n",
    "\n",
    "plt.xlabel(\"Words\")\n",
    "plt.ylabel(\"Frequency\")\n",
    "plt.title(\"Word Frequency Distribution (Positive Articles)\")\n",
    "plt.show()"
   ]
  },
  {
   "cell_type": "code",
   "execution_count": 22,
   "metadata": {
    "colab": {
     "base_uri": "https://localhost:8080/",
     "height": 350
    },
    "id": "kAcTfA4lZCqa",
    "outputId": "1c49f872-c133-41ad-9974-ae64abaf2d27"
   },
   "outputs": [
    {
     "data": {
      "image/png": "[encoded data removed]",
      "text/plain": [
       "<Figure size 720x360 with 1 Axes>"
      ]
     },
     "metadata": {
      "needs_background": "light"
     },
     "output_type": "display_data"
    }
   ],
   "source": [
    "negative =sorted(fox_neg + cnn_neg,key = lambda i: -i[1])\n",
    "y_val = [x[1] for x in negative]\n",
    "fig = plt.figure(figsize=(10,5))\n",
    "plt.plot(y_val)\n",
    "\n",
    "plt.xlabel(\"Words\")\n",
    "plt.ylabel(\"Frequency\")\n",
    "plt.title(\"Word Frequency Distribution (Negative Articles)\")\n",
    "plt.show()"
   ]
  },
  {
   "cell_type": "code",
   "execution_count": null,
   "metadata": {},
   "outputs": [],
   "source": []
  }
 ],
 "metadata": {
  "colab": {
   "name": "covid_sentiment.ipynb",
   "provenance": []
  },
  "kernelspec": {
   "display_name": "Python 3",
   "language": "python",
   "name": "python3"
  },
  "language_info": {
   "codemirror_mode": {
    "name": "ipython",
    "version": 3
   },
   "file_extension": ".py",
   "mimetype": "text/x-python",
   "name": "python",
   "nbconvert_exporter": "python",
   "pygments_lexer": "ipython3",
   "version": "3.8.8"
  }
 },
 "nbformat": 4,
 "nbformat_minor": 4
}
