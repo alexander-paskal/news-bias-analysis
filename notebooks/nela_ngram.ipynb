{
 "cells": [
  {
   "cell_type": "markdown",
   "id": "079a3f6f-f6d2-4aa5-813a-698bf21bd791",
   "metadata": {},
   "source": [
    "This analysis does the following:\n",
    "- extracts CNN and FOX articles\n",
    "- Loads text for respective articles\n",
    "- breaks CNN and FOX NEWS articles down into bigrams and trigrams\n",
    "    - displays charts for each\n",
    "- Analyze polarity and subjectivity for top n-grams in each category"
   ]
  },
  {
   "cell_type": "code",
   "execution_count": 72,
   "id": "9516f19a-d14e-4e73-8e84-32cf78a55c1e",
   "metadata": {},
   "outputs": [],
   "source": [
    "import os\n",
    "os.chdir(\"..\")\n",
    "\n",
    "from data.nela2017 import Nela2017\n",
    "from utils.text.preprocess import preprocess, STOPWORDS\n",
    "from utils.text.analysis import sentiment\n",
    "from utils.plotting.plotting import box_and_whisker\n",
    "import matplotlib.pyplot as plt\n",
    "import pandas as pd\n",
    "import seaborn as sns\n",
    "from textblob import TextBlob\n",
    "from nltk.util import bigrams, trigrams"
   ]
  },
  {
   "cell_type": "code",
   "execution_count": 73,
   "id": "2f453654-6e60-4671-a7fc-864790a7f592",
   "metadata": {},
   "outputs": [],
   "source": [
    "sns.set_theme()"
   ]
  },
  {
   "cell_type": "code",
   "execution_count": 2,
   "id": "a457973b-6c5f-42c6-b00f-2628fe4b383a",
   "metadata": {},
   "outputs": [],
   "source": [
    "ROOT = \"C:/Users/alexander.paskal/datasets/NELA2017\"  # change to wherever you have the data"
   ]
  },
  {
   "cell_type": "code",
   "execution_count": 3,
   "id": "0321ee73-2097-4111-acd0-38664ff4a2c8",
   "metadata": {},
   "outputs": [],
   "source": [
    "dataset = Nela2017(ROOT)"
   ]
  },
  {
   "cell_type": "code",
   "execution_count": 4,
   "id": "c7e0875b-438e-4444-b69b-166085ad4e46",
   "metadata": {},
   "outputs": [],
   "source": [
    "dataset.organizations(\"FOX NEWS\", \"CNN\")\n",
    "df = dataset.df()"
   ]
  },
  {
   "cell_type": "code",
   "execution_count": 5,
   "id": "c23fdf2b-9a30-465d-910c-1e8a7bd41c32",
   "metadata": {},
   "outputs": [
    {
     "name": "stdout",
     "output_type": "stream",
     "text": [
      "<class 'pandas.core.frame.DataFrame'>\n",
      "RangeIndex: 4776 entries, 0 to 4775\n",
      "Data columns (total 7 columns):\n",
      " #   Column  Non-Null Count  Dtype \n",
      "---  ------  --------------  ----- \n",
      " 0   id      4776 non-null   object\n",
      " 1   path    4776 non-null   object\n",
      " 2   org     4776 non-null   object\n",
      " 3   date    4776 non-null   object\n",
      " 4   title   4776 non-null   object\n",
      " 5   text    4776 non-null   object\n",
      " 6   author  4776 non-null   object\n",
      "dtypes: object(7)\n",
      "memory usage: 261.3+ KB\n"
     ]
    }
   ],
   "source": [
    "df.info()"
   ]
  },
  {
   "cell_type": "code",
   "execution_count": 10,
   "id": "1c7c336d-f327-44a6-8275-d22127f661b0",
   "metadata": {},
   "outputs": [],
   "source": [
    "df[\"text_pp\"] = df[\"text\"].apply(preprocess).apply(lambda x: \" \".join(x))"
   ]
  },
  {
   "cell_type": "code",
   "execution_count": 29,
   "id": "b42949be-329d-480c-858a-4f7d42f4a64f",
   "metadata": {},
   "outputs": [],
   "source": [
    "df[\"tokens\"] = df[\"text_pp\"].apply(nltk.word_tokenize)"
   ]
  },
  {
   "cell_type": "code",
   "execution_count": 15,
   "id": "4feab91d-20cf-4545-9426-ba4dfd12b936",
   "metadata": {},
   "outputs": [
    {
     "data": {
      "text/plain": [
       "0       0.075513\n",
       "1       0.116000\n",
       "2       0.114228\n",
       "3       0.127068\n",
       "4       0.021899\n",
       "          ...   \n",
       "4771   -0.005291\n",
       "4772    0.058333\n",
       "4773    0.022454\n",
       "4774    0.041225\n",
       "4775    0.007047\n",
       "Name: polarity, Length: 4776, dtype: float64"
      ]
     },
     "execution_count": 15,
     "metadata": {},
     "output_type": "execute_result"
    }
   ],
   "source": [
    "df[\"polarity\"] = df['text_pp'].apply(lambda x: TextBlob(x).polarity)\n",
    "df[\"polarity\"]"
   ]
  },
  {
   "cell_type": "code",
   "execution_count": 16,
   "id": "744e69eb-f981-4b1e-80b7-8afa660eab02",
   "metadata": {},
   "outputs": [
    {
     "data": {
      "text/plain": [
       "0       0.446330\n",
       "1       0.339333\n",
       "2       0.349568\n",
       "3       0.466917\n",
       "4       0.484177\n",
       "          ...   \n",
       "4771    0.410317\n",
       "4772    0.233333\n",
       "4773    0.382407\n",
       "4774    0.456252\n",
       "4775    0.352311\n",
       "Name: subjectivity, Length: 4776, dtype: float64"
      ]
     },
     "execution_count": 16,
     "metadata": {},
     "output_type": "execute_result"
    }
   ],
   "source": [
    "df[\"subjectivity\"] = df['text_pp'].apply(lambda x: TextBlob(x).subjectivity)\n",
    "df[\"subjectivity\"]"
   ]
  },
  {
   "cell_type": "code",
   "execution_count": 53,
   "id": "ec888e9b-a30f-4a85-8e41-f2838eac6ae3",
   "metadata": {},
   "outputs": [],
   "source": [
    "c_vec = CountVectorizer(stop_words=STOPWORDS, ngram_range=(2,))\n",
    "df[\"bigrams\"] = df[\"tokens\"].apply(lambda x: tuple(bigrams(x)))\n",
    "df[\"trigrams\"] = df[\"tokens\"].apply(lambda x: tuple(trigrams(x)))"
   ]
  },
  {
   "cell_type": "code",
   "execution_count": 54,
   "id": "f102c913-e1de-49eb-9272-5738d45bc4f7",
   "metadata": {},
   "outputs": [
    {
     "data": {
      "text/plain": [
       "0       ((Heightening, concern, US), (concern, US, int...\n",
       "1       ((But, Friday, afternoon), (Friday, afternoon,...\n",
       "2       ((Harris, threeterm, congressman), (threeterm,...\n",
       "3       ((Washington, CNN, Sen), (CNN, Sen, Claire), (...\n",
       "4       ((CNN, US, Navy), (US, Navy, veteran), (Navy, ...\n",
       "                              ...                        \n",
       "4771    ((I, think, reaction), (think, reaction, admin...\n",
       "4772    ((The, portraits, men), (portraits, men, smili...\n",
       "4773    ((Last, Monday, White), (Monday, White, House)...\n",
       "4774    ((Justice, Department, special), (Department, ...\n",
       "4775    ((CNN, Justice, Department), (Justice, Departm...\n",
       "Name: trigrams, Length: 4776, dtype: object"
      ]
     },
     "execution_count": 54,
     "metadata": {},
     "output_type": "execute_result"
    }
   ],
   "source": [
    "df[\"trigrams\"]"
   ]
  },
  {
   "cell_type": "code",
   "execution_count": 55,
   "id": "d92e1512-bac5-47a2-bb6d-c00f3dac4435",
   "metadata": {},
   "outputs": [],
   "source": [
    "og_df = df"
   ]
  },
  {
   "cell_type": "code",
   "execution_count": 99,
   "id": "56fce9bd-fa2a-4ed1-9f3d-eb3b87bd268b",
   "metadata": {},
   "outputs": [],
   "source": [
    "def extract_trigrams(df, kw):\n",
    "    trigrams = []\n",
    "    for trigram_group in df.trigrams:\n",
    "        for trigram in trigram_group:\n",
    "            for word in trigram:\n",
    "                if kw.lower() in word.lower():\n",
    "                    trigrams.append(trigram)\n",
    "                    break\n",
    "    return trigrams\n",
    "\n",
    "\n",
    "def trigram_sentiment(df, kw, org=None):\n",
    "    if org is not None:\n",
    "        df = df[df.org.str.lower() == org.lower()]\n",
    "    \n",
    "    trigrams = extract_trigrams(df, kw)\n",
    "    \n",
    "    polarities = []\n",
    "    subjectivities = []\n",
    "    for trigram in trigrams:\n",
    "        text = \" \".join(trigram)\n",
    "        polarity = TextBlob(text).polarity\n",
    "        subjectivity = TextBlob(text).subjectivity\n",
    "        if polarity != 0:\n",
    "            polarities.append(polarity)\n",
    "        if subjectivity != 0:\n",
    "            subjectivities.append(subjectivity)\n",
    "    \n",
    "    result = {\n",
    "        \"polarity\": polarities, \n",
    "        \"subjectivity\": subjectivities\n",
    "    }\n",
    "    return result\n",
    "    \n",
    "    \n",
    "def text_sentiment(df, kw, org=None):\n",
    "    if org is not None:\n",
    "        df = df[df.org.str.lower() == org.lower()]\n",
    "    \n",
    "    result = {\n",
    "        \"polarity\": list(df.polarity),\n",
    "        \"subjectivity\": list(df.subjectivity)\n",
    "    }\n",
    "    \n",
    "    return result\n",
    "\n",
    "\n",
    "def sentence_sentiment(df, kw, org=None):\n",
    "    if org is not None:\n",
    "        df = df[df.org.str.lower() == org.lower()]\n",
    "    \n",
    "    \n",
    "    polarities = []\n",
    "    subjectivities = []\n",
    "    \n",
    "    series = df[\"text\"].str.split('.')\n",
    "    for sentences in series:\n",
    "        for sentence in sentences:\n",
    "            text = preprocess(sentence, tokenized=False)\n",
    "            polarity = TextBlob(text).polarity\n",
    "            subjectivity = TextBlob(text).subjectivity\n",
    "            polarities.append(polarity)\n",
    "            subjectivities.append(subjectivity)\n",
    "            \n",
    "    result = {\n",
    "        \"polarity\": list(df.polarity),\n",
    "        \"subjectivity\": list(df.subjectivity)\n",
    "    }\n",
    "    \n",
    "    return result"
   ]
  },
  {
   "cell_type": "code",
   "execution_count": null,
   "id": "78e64e5c-966c-41b1-a2a7-d6f5f182deba",
   "metadata": {},
   "outputs": [],
   "source": [
    "trigram_cnn = trigram_sentiment(df, \"trump\", org=\"CNN\")\n",
    "trigram_fox = trigram_sentiment(df, \"trump\", org=\"FOX NEWS\")"
   ]
  },
  {
   "cell_type": "code",
   "execution_count": 85,
   "id": "ee655ee3-4e2f-4b66-bd66-bd66969d73b7",
   "metadata": {},
   "outputs": [],
   "source": [
    "\n",
    "text_fox = text_sentiment(df, \"trump\", org=\"FOX NEWS\")\n",
    "text_cnn = text_sentiment(df, \"trump\", org=\"CNN\")"
   ]
  },
  {
   "cell_type": "code",
   "execution_count": null,
   "id": "f43b1d23-c2f8-4084-951d-91e9b68f0cca",
   "metadata": {},
   "outputs": [],
   "source": []
  },
  {
   "cell_type": "code",
   "execution_count": 81,
   "id": "56e72f52-c5d9-4e3b-ba2b-75b31d712fd5",
   "metadata": {},
   "outputs": [
    {
     "data": {
      "image/png": "[encoded data removed]",
      "text/plain": [
       "<Figure size 432x288 with 2 Axes>"
      ]
     },
     "metadata": {},
     "output_type": "display_data"
    }
   ],
   "source": [
    "fig, axs = plt.subplots(1, 2)\n",
    "\n",
    "box_and_whisker(fox_sentiment[\"polarity\"], ax=axs[0])\n",
    "box_and_whisker(cnn_sentiment[\"polarity\"], ax=axs[1])\n",
    "\n",
    "fig.suptitle(\"Trigram Polarity - \\\"Trump\\\"\")\n",
    "axs[0].set_title(\"FOX\")\n",
    "axs[1].set_title(\"CNN\")\n",
    "plt.show()"
   ]
  },
  {
   "cell_type": "code",
   "execution_count": 79,
   "id": "1a03cdf6-1200-41ea-a1f1-45d11312c08c",
   "metadata": {},
   "outputs": [
    {
     "data": {
      "image/png": "[encoded data removed]",
      "text/plain": [
       "<Figure size 432x288 with 2 Axes>"
      ]
     },
     "metadata": {},
     "output_type": "display_data"
    }
   ],
   "source": [
    "fig, axs = plt.subplots(1, 2)\n",
    "\n",
    "box_and_whisker(fox_sentiment[\"subjectivity\"], ax=axs[0])\n",
    "box_and_whisker(cnn_sentiment[\"subjectivity\"], ax=axs[1])\n",
    "\n",
    "fig.suptitle(\"Trigram Subjectivity - \\\"Trump\\\"\"\")\n",
    "axs[0].set_title(\"FOX\")\n",
    "axs[1].set_title(\"CNN\")\n",
    "plt.show()"
   ]
  },
  {
   "cell_type": "code",
   "execution_count": 87,
   "id": "41997676-aee7-4a67-8c94-b75e7a7ba1fa",
   "metadata": {},
   "outputs": [
    {
     "data": {
      "image/png": "[encoded data removed]",
      "text/plain": [
       "<Figure size 432x288 with 2 Axes>"
      ]
     },
     "metadata": {},
     "output_type": "display_data"
    }
   ],
   "source": [
    "fig, axs = plt.subplots(1, 2)\n",
    "\n",
    "box_and_whisker(text_fox[\"polarity\"], ax=axs[0])\n",
    "box_and_whisker(text_cnn[\"polarity\"], ax=axs[1])\n",
    "\n",
    "fig.suptitle(\"Text Polarity - \\\"Trump\\\"\")\n",
    "axs[0].set_title(\"FOX\")\n",
    "axs[1].set_title(\"CNN\")\n",
    "plt.show()"
   ]
  },
  {
   "cell_type": "code",
   "execution_count": 89,
   "id": "51b390f5-410d-4337-a571-1f35e7950c5b",
   "metadata": {},
   "outputs": [
    {
     "data": {
      "image/png": "[encoded data removed]",
      "text/plain": [
       "<Figure size 432x288 with 2 Axes>"
      ]
     },
     "metadata": {},
     "output_type": "display_data"
    }
   ],
   "source": [
    "fig, axs = plt.subplots(1, 2)\n",
    "\n",
    "box_and_whisker(text_fox[\"subjectivity\"], ax=axs[0])\n",
    "box_and_whisker(text_cnn[\"subjectivity\"], ax=axs[1])\n",
    "\n",
    "fig.suptitle(\"Text Subjectivity - \\\"Trump\\\"\")\n",
    "axs[0].set_title(\"FOX\")\n",
    "axs[1].set_title(\"CNN\")\n",
    "plt.show()"
   ]
  },
  {
   "cell_type": "code",
   "execution_count": 101,
   "id": "9ef9d522-5880-41f1-9b7c-214cfa985a02",
   "metadata": {},
   "outputs": [
    {
     "data": {
      "image/png": "[encoded data removed]",
      "text/plain": [
       "<Figure size 432x288 with 2 Axes>"
      ]
     },
     "metadata": {},
     "output_type": "display_data"
    },
    {
     "data": {
      "image/png": "[encoded data removed]",
      "text/plain": [
       "<Figure size 432x288 with 2 Axes>"
      ]
     },
     "metadata": {},
     "output_type": "display_data"
    }
   ],
   "source": [
    "# sentence_fox = sentence_sentiment(df, \"trump\", org=\"FOX NEWS\")\n",
    "# sentence_cnn = sentence_sentiment(df, \"trump\", org=\"CNN\")\n",
    "\n",
    "\n",
    "fig, axs = plt.subplots(1, 2)\n",
    "\n",
    "box_and_whisker(sentence_fox[\"polarity\"], ax=axs[0])\n",
    "box_and_whisker(sentence_cnn[\"polarity\"], ax=axs[1])\n",
    "\n",
    "fig.suptitle(\"Sentence Polarity - \\\"Trump\\\"\")\n",
    "axs[0].set_title(\"FOX\")\n",
    "axs[1].set_title(\"CNN\")\n",
    "plt.show()\n",
    "fig, axs = plt.subplots(1, 2)\n",
    "\n",
    "box_and_whisker(sentence_fox[\"subjectivity\"], ax=axs[0])\n",
    "box_and_whisker(sentence_cnn[\"subjectivity\"], ax=axs[1])\n",
    "\n",
    "fig.suptitle(\"Sentence Subjectivity - \\\"Trump\\\"\")\n",
    "axs[0].set_title(\"FOX\")\n",
    "axs[1].set_title(\"CNN\")\n",
    "plt.show()"
   ]
  },
  {
   "cell_type": "code",
   "execution_count": null,
   "id": "91023638-9d5d-4b75-9526-d14dc464ed38",
   "metadata": {},
   "outputs": [],
   "source": []
  }
 ],
 "metadata": {
  "kernelspec": {
   "display_name": "Python 3",
   "language": "python",
   "name": "python3"
  },
  "language_info": {
   "codemirror_mode": {
    "name": "ipython",
    "version": 3
   },
   "file_extension": ".py",
   "mimetype": "text/x-python",
   "name": "python",
   "nbconvert_exporter": "python",
   "pygments_lexer": "ipython3",
   "version": "3.8.8"
  }
 },
 "nbformat": 4,
 "nbformat_minor": 5
}
