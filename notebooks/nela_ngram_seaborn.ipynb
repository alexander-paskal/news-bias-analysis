{
 "cells": [
  {
   "cell_type": "markdown",
   "metadata": {},
   "source": [
    "This analysis does the following:\n",
    "- extracts CNN and FOX articles\n",
    "- Loads text for respective articles\n",
    "- breaks CNN and FOX NEWS articles down into bigrams and trigrams\n",
    "    - displays charts for each\n",
    "- Analyze polarity and subjectivity for top n-grams in each category"
   ]
  },
  {
   "cell_type": "code",
   "execution_count": 68,
   "metadata": {},
   "outputs": [
    {
     "name": "stdout",
     "output_type": "stream",
     "text": [
      "Requirement already satisfied: textblob in /opt/homebrew/anaconda3/lib/python3.8/site-packages (0.17.1)\n",
      "Requirement already satisfied: nltk>=3.1 in /opt/homebrew/anaconda3/lib/python3.8/site-packages (from textblob) (3.5)\n",
      "Requirement already satisfied: tqdm in /opt/homebrew/anaconda3/lib/python3.8/site-packages (from nltk>=3.1->textblob) (4.50.2)\n",
      "Requirement already satisfied: click in /opt/homebrew/anaconda3/lib/python3.8/site-packages (from nltk>=3.1->textblob) (7.1.2)\n",
      "Requirement already satisfied: regex in /opt/homebrew/anaconda3/lib/python3.8/site-packages (from nltk>=3.1->textblob) (2020.10.15)\n",
      "Requirement already satisfied: joblib in /opt/homebrew/anaconda3/lib/python3.8/site-packages (from nltk>=3.1->textblob) (0.17.0)\n",
      "\u001b[33mWARNING: You are using pip version 21.1.2; however, version 21.3.1 is available.\n",
      "You should consider upgrading via the '/opt/homebrew/anaconda3/bin/python -m pip install --upgrade pip' command.\u001b[0m\n",
      "Collecting WordCloud\n",
      "  Downloading wordcloud-1.8.1.tar.gz (220 kB)\n",
      "\u001b[K     |████████████████████████████████| 220 kB 7.4 MB/s eta 0:00:01\n",
      "\u001b[?25hRequirement already satisfied: numpy>=1.6.1 in /opt/homebrew/anaconda3/lib/python3.8/site-packages (from WordCloud) (1.19.2)\n",
      "Requirement already satisfied: pillow in /opt/homebrew/anaconda3/lib/python3.8/site-packages (from WordCloud) (8.0.1)\n",
      "Requirement already satisfied: matplotlib in /opt/homebrew/anaconda3/lib/python3.8/site-packages (from WordCloud) (3.3.2)\n",
      "Requirement already satisfied: cycler>=0.10 in /opt/homebrew/anaconda3/lib/python3.8/site-packages (from matplotlib->WordCloud) (0.10.0)\n",
      "Requirement already satisfied: python-dateutil>=2.1 in /opt/homebrew/anaconda3/lib/python3.8/site-packages (from matplotlib->WordCloud) (2.8.1)\n",
      "Requirement already satisfied: pyparsing!=2.0.4,!=2.1.2,!=2.1.6,>=2.0.3 in /opt/homebrew/anaconda3/lib/python3.8/site-packages (from matplotlib->WordCloud) (2.4.7)\n",
      "Requirement already satisfied: kiwisolver>=1.0.1 in /opt/homebrew/anaconda3/lib/python3.8/site-packages (from matplotlib->WordCloud) (1.3.0)\n",
      "Requirement already satisfied: certifi>=2020.06.20 in /opt/homebrew/anaconda3/lib/python3.8/site-packages (from matplotlib->WordCloud) (2020.6.20)\n",
      "Requirement already satisfied: six in /opt/homebrew/anaconda3/lib/python3.8/site-packages (from cycler>=0.10->matplotlib->WordCloud) (1.15.0)\n",
      "Building wheels for collected packages: WordCloud\n",
      "  Building wheel for WordCloud (setup.py) ... \u001b[?25ldone\n",
      "\u001b[?25h  Created wheel for WordCloud: filename=wordcloud-1.8.1-cp38-cp38-macosx_10_9_x86_64.whl size=158421 sha256=1b362b93405a06727a36446ef9b8d3cecc1342a9b3bbcae941588b85364867ff\n",
      "  Stored in directory: /Users/lithplus/Library/Caches/pip/wheels/4d/3f/0d/a2ba9b7895c9f1be89018b3141c3df3d4f9c786c882ccfbc3b\n",
      "Successfully built WordCloud\n",
      "Installing collected packages: WordCloud\n",
      "Successfully installed WordCloud-1.8.1\n",
      "\u001b[33mWARNING: You are using pip version 21.1.2; however, version 21.3.1 is available.\n",
      "You should consider upgrading via the '/opt/homebrew/anaconda3/bin/python -m pip install --upgrade pip' command.\u001b[0m\n"
     ]
    }
   ],
   "source": [
    "!pip install textblob\n",
    "!pip install WordCloud"
   ]
  },
  {
   "cell_type": "code",
   "execution_count": 69,
   "metadata": {},
   "outputs": [],
   "source": [
    "import os\n",
    "os.chdir(\"..\")\n",
    "\n",
    "from data.nela2017 import Nela2017\n",
    "from utils.text.preprocess import preprocess, STOPWORDS\n",
    "# from utils.text.analysis import sentiment\n",
    "from utils.plotting.plotting import box_and_whisker\n",
    "import matplotlib.pyplot as plt\n",
    "import pandas as pd\n",
    "import seaborn as sns\n",
    "from textblob import TextBlob\n",
    "from nltk.util import bigrams, trigrams\n",
    "from sklearn.feature_extraction.text import CountVectorizer\n",
    "import nltk"
   ]
  },
  {
   "cell_type": "code",
   "execution_count": 70,
   "metadata": {},
   "outputs": [],
   "source": [
    "sns.set_theme()"
   ]
  },
  {
   "cell_type": "code",
   "execution_count": 71,
   "metadata": {},
   "outputs": [],
   "source": [
    "ROOT = \"/Users/lithplus/Documents/news-bias-analysis/notebooks/data\"  # change to wherever you have the data"
   ]
  },
  {
   "cell_type": "code",
   "execution_count": 72,
   "metadata": {},
   "outputs": [],
   "source": [
    "dataset = Nela2017(ROOT)"
   ]
  },
  {
   "cell_type": "code",
   "execution_count": 73,
   "metadata": {},
   "outputs": [],
   "source": [
    "dataset.organizations(\"FOX NEWS\", \"CNN\")\n",
    "df = dataset.df()"
   ]
  },
  {
   "cell_type": "code",
   "execution_count": 74,
   "metadata": {},
   "outputs": [
    {
     "name": "stdout",
     "output_type": "stream",
     "text": [
      "<class 'pandas.core.frame.DataFrame'>\n",
      "RangeIndex: 4776 entries, 0 to 4775\n",
      "Data columns (total 7 columns):\n",
      " #   Column  Non-Null Count  Dtype \n",
      "---  ------  --------------  ----- \n",
      " 0   id      4776 non-null   object\n",
      " 1   path    4776 non-null   object\n",
      " 2   org     4776 non-null   object\n",
      " 3   date    4776 non-null   object\n",
      " 4   title   4776 non-null   object\n",
      " 5   text    4776 non-null   object\n",
      " 6   author  4776 non-null   object\n",
      "dtypes: object(7)\n",
      "memory usage: 261.3+ KB\n"
     ]
    }
   ],
   "source": [
    "df.info()"
   ]
  },
  {
   "cell_type": "code",
   "execution_count": 75,
   "metadata": {},
   "outputs": [],
   "source": [
    "df[\"text_pp\"] = df[\"text\"].apply(preprocess).apply(lambda x: \" \".join(x))"
   ]
  },
  {
   "cell_type": "code",
   "execution_count": 76,
   "metadata": {},
   "outputs": [],
   "source": [
    "df[\"tokens\"] = df[\"text_pp\"].apply(nltk.word_tokenize)"
   ]
  },
  {
   "cell_type": "code",
   "execution_count": 77,
   "metadata": {},
   "outputs": [
    {
     "data": {
      "text/plain": [
       "0       0.072025\n",
       "1       0.018519\n",
       "2       0.046971\n",
       "3       0.147321\n",
       "4       0.116000\n",
       "          ...   \n",
       "4771    0.077696\n",
       "4772   -0.011293\n",
       "4773    0.125206\n",
       "4774    0.095881\n",
       "4775    0.027611\n",
       "Name: polarity, Length: 4776, dtype: float64"
      ]
     },
     "execution_count": 77,
     "metadata": {},
     "output_type": "execute_result"
    }
   ],
   "source": [
    "df[\"polarity\"] = df['text_pp'].apply(lambda x: TextBlob(x).polarity)\n",
    "df[\"polarity\"]"
   ]
  },
  {
   "cell_type": "code",
   "execution_count": 78,
   "metadata": {},
   "outputs": [
    {
     "data": {
      "text/plain": [
       "0       0.384938\n",
       "1       0.251235\n",
       "2       0.296943\n",
       "3       0.367857\n",
       "4       0.339333\n",
       "          ...   \n",
       "4771    0.307419\n",
       "4772    0.344770\n",
       "4773    0.498707\n",
       "4774    0.546748\n",
       "4775    0.445218\n",
       "Name: subjectivity, Length: 4776, dtype: float64"
      ]
     },
     "execution_count": 78,
     "metadata": {},
     "output_type": "execute_result"
    }
   ],
   "source": [
    "df[\"subjectivity\"] = df['text_pp'].apply(lambda x: TextBlob(x).subjectivity)\n",
    "df[\"subjectivity\"]"
   ]
  },
  {
   "cell_type": "code",
   "execution_count": 79,
   "metadata": {},
   "outputs": [],
   "source": [
    "c_vec = CountVectorizer(stop_words=STOPWORDS, ngram_range=(2,))\n",
    "df[\"bigrams\"] = df[\"tokens\"].apply(lambda x: tuple(bigrams(x)))\n",
    "df[\"trigrams\"] = df[\"tokens\"].apply(lambda x: tuple(trigrams(x)))"
   ]
  },
  {
   "cell_type": "code",
   "execution_count": 80,
   "metadata": {},
   "outputs": [
    {
     "data": {
      "text/plain": [
       "0       ((realDonaldTrump, bringing, auto), (bringing,...\n",
       "1       ((President, Donald, Trump), (Donald, Trump, m...\n",
       "2       ((CNN, The, House), (The, House, Intelligence)...\n",
       "3       ((The, Vermont, senator), (Vermont, senator, a...\n",
       "4       ((But, Friday, afternoon), (Friday, afternoon,...\n",
       "                              ...                        \n",
       "4771    ((Washington, CNN, Trump), (CNN, Trump, admini...\n",
       "4772    ((CNN, Former, Trump), (Former, Trump, campaig...\n",
       "4773    ((CNN, Whether, Ed), (Whether, Ed, Gillespie),...\n",
       "4774    ((In, US, Air), (US, Air, Force), (Air, Force,...\n",
       "4775    ((At, first, glance), (first, glance, Presiden...\n",
       "Name: trigrams, Length: 4776, dtype: object"
      ]
     },
     "execution_count": 80,
     "metadata": {},
     "output_type": "execute_result"
    }
   ],
   "source": [
    "df[\"trigrams\"]"
   ]
  },
  {
   "cell_type": "code",
   "execution_count": 97,
   "metadata": {},
   "outputs": [
    {
     "name": "stdout",
     "output_type": "stream",
     "text": [
      "<class 'pandas.core.frame.DataFrame'>\n",
      "RangeIndex: 4776 entries, 0 to 4775\n",
      "Data columns (total 13 columns):\n",
      " #   Column        Non-Null Count  Dtype  \n",
      "---  ------        --------------  -----  \n",
      " 0   id            4776 non-null   object \n",
      " 1   path          4776 non-null   object \n",
      " 2   org           4776 non-null   object \n",
      " 3   date          4776 non-null   object \n",
      " 4   title         4776 non-null   object \n",
      " 5   text          4776 non-null   object \n",
      " 6   author        4776 non-null   object \n",
      " 7   text_pp       4776 non-null   object \n",
      " 8   tokens        4776 non-null   object \n",
      " 9   polarity      4776 non-null   float64\n",
      " 10  subjectivity  4776 non-null   float64\n",
      " 11  bigrams       4776 non-null   object \n",
      " 12  trigrams      4776 non-null   object \n",
      "dtypes: float64(2), object(11)\n",
      "memory usage: 485.2+ KB\n"
     ]
    }
   ],
   "source": [
    "og_df = df\n",
    "df.info()"
   ]
  },
  {
   "cell_type": "code",
   "execution_count": 82,
   "metadata": {},
   "outputs": [],
   "source": [
    "def extract_trigrams(df, kw):\n",
    "    trigrams = []\n",
    "    for trigram_group in df.trigrams:\n",
    "        for trigram in trigram_group:\n",
    "            for word in trigram:\n",
    "                if kw.lower() in word.lower():\n",
    "                    trigrams.append(trigram)\n",
    "                    break\n",
    "    return trigrams\n",
    "\n",
    "\n",
    "def trigram_sentiment(df, kw, org=None):\n",
    "    if org is not None:\n",
    "        df = df[df.org.str.lower() == org.lower()]\n",
    "    \n",
    "    trigrams = extract_trigrams(df, kw)\n",
    "    \n",
    "    polarities = []\n",
    "    subjectivities = []\n",
    "    for trigram in trigrams:\n",
    "        text = \" \".join(trigram)\n",
    "        polarity = TextBlob(text).polarity\n",
    "        subjectivity = TextBlob(text).subjectivity\n",
    "        if polarity != 0:\n",
    "            polarities.append(polarity)\n",
    "        if subjectivity != 0:\n",
    "            subjectivities.append(subjectivity)\n",
    "    \n",
    "    result = {\n",
    "        \"polarity\": polarities, \n",
    "        \"subjectivity\": subjectivities\n",
    "    }\n",
    "    return result\n",
    "    \n",
    "    \n",
    "def text_sentiment(df, kw, org=None):\n",
    "    if org is not None:\n",
    "        df = df[df.org.str.lower() == org.lower()]\n",
    "    \n",
    "    result = {\n",
    "        \"polarity\": list(df.polarity),\n",
    "        \"subjectivity\": list(df.subjectivity)\n",
    "    }\n",
    "    \n",
    "    return result\n",
    "\n",
    "\n",
    "def sentence_sentiment(df, kw, org=None):\n",
    "    if org is not None:\n",
    "        df = df[df.org.str.lower() == org.lower()]\n",
    "    \n",
    "    \n",
    "    polarities = []\n",
    "    subjectivities = []\n",
    "    \n",
    "    series = df[\"text\"].str.split('.')\n",
    "    for sentences in series:\n",
    "        for sentence in sentences:\n",
    "            text = preprocess(sentence, tokenized=False)\n",
    "            polarity = TextBlob(text).polarity\n",
    "            subjectivity = TextBlob(text).subjectivity\n",
    "            polarities.append(polarity)\n",
    "            subjectivities.append(subjectivity)\n",
    "            \n",
    "    result = {\n",
    "        \"polarity\": list(df.polarity),\n",
    "        \"subjectivity\": list(df.subjectivity)\n",
    "    }\n",
    "    \n",
    "    return result"
   ]
  },
  {
   "cell_type": "code",
   "execution_count": 83,
   "metadata": {},
   "outputs": [],
   "source": [
    "trigram_cnn = trigram_sentiment(df, \"trump\", org=\"CNN\")\n",
    "trigram_fox = trigram_sentiment(df, \"trump\", org=\"FOX NEWS\")"
   ]
  },
  {
   "cell_type": "code",
   "execution_count": 84,
   "metadata": {},
   "outputs": [],
   "source": [
    "\n",
    "text_fox = text_sentiment(df, \"trump\", org=\"FOX NEWS\")\n",
    "text_cnn = text_sentiment(df, \"trump\", org=\"CNN\")"
   ]
  },
  {
   "cell_type": "code",
   "execution_count": 92,
   "metadata": {},
   "outputs": [],
   "source": [
    "fox_sentiment = sentence_sentiment(df, \"trump\", org=\"FOX NEWS\")\n",
    "cnn_sentiment = sentence_sentiment(df, \"trump\", org=\"FOX NEWS\")"
   ]
  },
  {
   "cell_type": "code",
   "execution_count": 94,
   "metadata": {},
   "outputs": [],
   "source": [
    "import seaborn as sns"
   ]
  },
  {
   "cell_type": "code",
   "execution_count": 98,
   "metadata": {},
   "outputs": [
    {
     "data": {
      "text/plain": [
       "<seaborn.axisgrid.FacetGrid at 0x7fc5257c0f70>"
      ]
     },
     "execution_count": 98,
     "metadata": {},
     "output_type": "execute_result"
    },
    {
     "data": {
      "image/png": "[encoded data removed]",
      "text/plain": [
       "<Figure size 458.1x360 with 1 Axes>"
      ]
     },
     "metadata": {},
     "output_type": "display_data"
    }
   ],
   "source": [
    "sns.displot(df, x = \"polarity\", hue = \"org\",kind = \"kde\", multiple = \"stack\")"
   ]
  },
  {
   "cell_type": "code",
   "execution_count": 93,
   "metadata": {},
   "outputs": [
    {
     "data": {
      "image/png": "[encoded data removed]",
      "text/plain": [
       "<Figure size 432x288 with 2 Axes>"
      ]
     },
     "metadata": {},
     "output_type": "display_data"
    }
   ],
   "source": [
    "fig, axs = plt.subplots(1, 2)\n",
    "\n",
    "box_and_whisker(fox_sentiment[\"polarity\"], ax=axs[0])\n",
    "box_and_whisker(cnn_sentiment[\"polarity\"], ax=axs[1])\n",
    "\n",
    "fig.suptitle(\"Trigram Polarity - \\\"Trump\\\"\")\n",
    "axs[0].set_title(\"FOX\")\n",
    "axs[1].set_title(\"CNN\")\n",
    "plt.show()"
   ]
  },
  {
   "cell_type": "code",
   "execution_count": 88,
   "metadata": {},
   "outputs": [
    {
     "ename": "SyntaxError",
     "evalue": "EOL while scanning string literal (<ipython-input-88-5ce9fc614bfc>, line 6)",
     "output_type": "error",
     "traceback": [
      "\u001b[0;36m  File \u001b[0;32m\"<ipython-input-88-5ce9fc614bfc>\"\u001b[0;36m, line \u001b[0;32m6\u001b[0m\n\u001b[0;31m    fig.suptitle(\"Trigram Subjectivity - \\\"Trump\\\"\"\")\u001b[0m\n\u001b[0m                                                     ^\u001b[0m\n\u001b[0;31mSyntaxError\u001b[0m\u001b[0;31m:\u001b[0m EOL while scanning string literal\n"
     ]
    }
   ],
   "source": [
    "fig, axs = plt.subplots(1, 2)\n",
    "\n",
    "box_and_whisker(fox_sentiment[\"subjectivity\"], ax=axs[0])\n",
    "box_and_whisker(cnn_sentiment[\"subjectivity\"], ax=axs[1])\n",
    "\n",
    "fig.suptitle(\"Trigram Subjectivity - \\\"Trump\\\"\"\")\n",
    "axs[0].set_title(\"FOX\")\n",
    "axs[1].set_title(\"CNN\")\n",
    "plt.show()"
   ]
  },
  {
   "cell_type": "code",
   "execution_count": 89,
   "metadata": {},
   "outputs": [
    {
     "data": {
      "image/png": "[encoded data removed]",
      "text/plain": [
       "<Figure size 432x288 with 2 Axes>"
      ]
     },
     "metadata": {},
     "output_type": "display_data"
    }
   ],
   "source": [
    "fig, axs = plt.subplots(1, 2)\n",
    "\n",
    "box_and_whisker(text_fox[\"polarity\"], ax=axs[0])\n",
    "box_and_whisker(text_cnn[\"polarity\"], ax=axs[1])\n",
    "\n",
    "fig.suptitle(\"Text Polarity - \\\"Trump\\\"\")\n",
    "axs[0].set_title(\"FOX\")\n",
    "axs[1].set_title(\"CNN\")\n",
    "plt.show()"
   ]
  },
  {
   "cell_type": "code",
   "execution_count": 90,
   "metadata": {},
   "outputs": [
    {
     "data": {
      "image/png": "[encoded data removed]",
      "text/plain": [
       "<Figure size 432x288 with 2 Axes>"
      ]
     },
     "metadata": {},
     "output_type": "display_data"
    }
   ],
   "source": [
    "fig, axs = plt.subplots(1, 2)\n",
    "\n",
    "box_and_whisker(text_fox[\"subjectivity\"], ax=axs[0])\n",
    "box_and_whisker(text_cnn[\"subjectivity\"], ax=axs[1])\n",
    "\n",
    "fig.suptitle(\"Text Subjectivity - \\\"Trump\\\"\")\n",
    "axs[0].set_title(\"FOX\")\n",
    "axs[1].set_title(\"CNN\")\n",
    "plt.show()"
   ]
  },
  {
   "cell_type": "code",
   "execution_count": 91,
   "metadata": {},
   "outputs": [
    {
     "ename": "NameError",
     "evalue": "name 'sentence_fox' is not defined",
     "output_type": "error",
     "traceback": [
      "\u001b[0;31m---------------------------------------------------------------------------\u001b[0m",
      "\u001b[0;31mNameError\u001b[0m                                 Traceback (most recent call last)",
      "\u001b[0;32m<ipython-input-91-44f3ea1a11e0>\u001b[0m in \u001b[0;36m<module>\u001b[0;34m\u001b[0m\n\u001b[1;32m      5\u001b[0m \u001b[0mfig\u001b[0m\u001b[0;34m,\u001b[0m \u001b[0maxs\u001b[0m \u001b[0;34m=\u001b[0m \u001b[0mplt\u001b[0m\u001b[0;34m.\u001b[0m\u001b[0msubplots\u001b[0m\u001b[0;34m(\u001b[0m\u001b[0;36m1\u001b[0m\u001b[0;34m,\u001b[0m \u001b[0;36m2\u001b[0m\u001b[0;34m)\u001b[0m\u001b[0;34m\u001b[0m\u001b[0;34m\u001b[0m\u001b[0m\n\u001b[1;32m      6\u001b[0m \u001b[0;34m\u001b[0m\u001b[0m\n\u001b[0;32m----> 7\u001b[0;31m \u001b[0mbox_and_whisker\u001b[0m\u001b[0;34m(\u001b[0m\u001b[0msentence_fox\u001b[0m\u001b[0;34m[\u001b[0m\u001b[0;34m\"polarity\"\u001b[0m\u001b[0;34m]\u001b[0m\u001b[0;34m,\u001b[0m \u001b[0max\u001b[0m\u001b[0;34m=\u001b[0m\u001b[0maxs\u001b[0m\u001b[0;34m[\u001b[0m\u001b[0;36m0\u001b[0m\u001b[0;34m]\u001b[0m\u001b[0;34m)\u001b[0m\u001b[0;34m\u001b[0m\u001b[0;34m\u001b[0m\u001b[0m\n\u001b[0m\u001b[1;32m      8\u001b[0m \u001b[0mbox_and_whisker\u001b[0m\u001b[0;34m(\u001b[0m\u001b[0msentence_cnn\u001b[0m\u001b[0;34m[\u001b[0m\u001b[0;34m\"polarity\"\u001b[0m\u001b[0;34m]\u001b[0m\u001b[0;34m,\u001b[0m \u001b[0max\u001b[0m\u001b[0;34m=\u001b[0m\u001b[0maxs\u001b[0m\u001b[0;34m[\u001b[0m\u001b[0;36m1\u001b[0m\u001b[0;34m]\u001b[0m\u001b[0;34m)\u001b[0m\u001b[0;34m\u001b[0m\u001b[0;34m\u001b[0m\u001b[0m\n\u001b[1;32m      9\u001b[0m \u001b[0;34m\u001b[0m\u001b[0m\n",
      "\u001b[0;31mNameError\u001b[0m: name 'sentence_fox' is not defined"
     ]
    },
    {
     "data": {
      "image/png": "[encoded data removed]",
      "text/plain": [
       "<Figure size 432x288 with 2 Axes>"
      ]
     },
     "metadata": {},
     "output_type": "display_data"
    }
   ],
   "source": [
    "# sentence_fox = sentence_sentiment(df, \"trump\", org=\"FOX NEWS\")\n",
    "# sentence_cnn = sentence_sentiment(df, \"trump\", org=\"CNN\")\n",
    "\n",
    "\n",
    "fig, axs = plt.subplots(1, 2)\n",
    "\n",
    "box_and_whisker(sentence_fox[\"polarity\"], ax=axs[0])\n",
    "box_and_whisker(sentence_cnn[\"polarity\"], ax=axs[1])\n",
    "\n",
    "fig.suptitle(\"Sentence Polarity - \\\"Trump\\\"\")\n",
    "axs[0].set_title(\"FOX\")\n",
    "axs[1].set_title(\"CNN\")\n",
    "plt.show()\n",
    "fig, axs = plt.subplots(1, 2)\n",
    "\n",
    "box_and_whisker(sentence_fox[\"subjectivity\"], ax=axs[0])\n",
    "box_and_whisker(sentence_cnn[\"subjectivity\"], ax=axs[1])\n",
    "\n",
    "fig.suptitle(\"Sentence Subjectivity - \\\"Trump\\\"\")\n",
    "axs[0].set_title(\"FOX\")\n",
    "axs[1].set_title(\"CNN\")\n",
    "plt.show()"
   ]
  },
  {
   "cell_type": "code",
   "execution_count": null,
   "metadata": {},
   "outputs": [],
   "source": []
  }
 ],
 "metadata": {
  "kernelspec": {
   "display_name": "Python 3",
   "language": "python",
   "name": "python3"
  },
  "language_info": {
   "codemirror_mode": {
    "name": "ipython",
    "version": 3
   },
   "file_extension": ".py",
   "mimetype": "text/x-python",
   "name": "python",
   "nbconvert_exporter": "python",
   "pygments_lexer": "ipython3",
   "version": "3.8.5"
  }
 },
 "nbformat": 4,
 "nbformat_minor": 5
}
