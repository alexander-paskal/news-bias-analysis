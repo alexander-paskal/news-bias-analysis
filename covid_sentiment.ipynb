{
  "nbformat": 4,
  "nbformat_minor": 0,
  "metadata": {
    "colab": {
      "name": "covid_sentiment.ipynb",
      "provenance": []
    },
    "kernelspec": {
      "name": "python3",
      "display_name": "Python 3"
    },
    "language_info": {
      "name": "python"
    }
  },
  "cells": [
    {
      "cell_type": "code",
      "metadata": {
        "id": "oYxFv5yQ55Id"
      },
      "source": [
        "import requests\n",
        "import json\n",
        "import numpy as np\n",
        "import pandas as pd\n",
        "import nltk \n",
        "import matplotlib\n",
        "from nltk.tokenize import sent_tokenize, word_tokenize\n",
        "from nltk.corpus import stopwords\n",
        "from string import punctuation\n",
        "import re\n",
        "import numpy as np\n",
        "from nltk.tokenize import RegexpTokenizer\n",
        "from nltk.stem import WordNetLemmatizer"
      ],
      "execution_count": 1,
      "outputs": []
    },
    {
      "cell_type": "code",
      "metadata": {
        "id": "8cTVEdRs6CYc"
      },
      "source": [
        "url = 'https://newsapi.org/v2/everything?'\n",
        "api_key = \"c31d9f572e5d47eeaae9d16463d0c921\""
      ],
      "execution_count": 2,
      "outputs": []
    },
    {
      "cell_type": "code",
      "metadata": {
        "id": "dFeFYNyw6DzG"
      },
      "source": [
        "def get_articles(file):\n",
        "    '''\n",
        "    This is a helper function the extract articles from the newsapi dataset\n",
        "    ''' \n",
        "\n",
        "\n",
        "    article_results = [] \n",
        "    for i in range(len(file)):\n",
        "        article_dict = {}\n",
        "        article_dict['title'] = file[i]['title']\n",
        "        article_dict['author'] = file[i]['author']\n",
        "        article_dict['source'] = file[i]['source']\n",
        "        article_dict['description'] = file[i]['description']\n",
        "        article_dict['content'] = file[i]['content']\n",
        "        article_dict['pub_date'] = file[i]['publishedAt']\n",
        "        article_dict['url'] = file[i][\"url\"]\n",
        "        article_dict['photo_url'] = file[i]['urlToImage']\n",
        "        article_results.append(article_dict)\n",
        "    return article_results\n",
        "\n",
        "def get_news_articles(source: str, topic: str):\n",
        "    '''\n",
        "    Returns the dataframe from newsource and topic\n",
        "    Input: str,str\n",
        "    Output: pd frame\n",
        "    '''\n",
        "\n",
        "    assert isinstance(source,str)\n",
        "    assert isinstance(topic,str)\n",
        "\n",
        "    \n",
        "    parameters_headlines = {\n",
        "    'q': topic,\n",
        "    'sortBy':'popularity',\n",
        "    'pageSize': 100,\n",
        "    'apiKey': api_key,\n",
        "    'language': 'en',\n",
        "    'domains' : format(source)  \n",
        "    }\n",
        "\n",
        "    # making the API call \n",
        "    response_headline = requests.get(url, params = parameters_headlines)\n",
        "    response_json_headline = response_headline.json()\n",
        "    responses = response_json_headline[\"articles\"]\n",
        "    # transforminf the data from JSON dictionary to a pandas data frame\n",
        "    news_articles_df = pd.DataFrame(get_articles(responses))\n",
        "    # printing the head to check the format and the working of the get_articles function\n",
        "    return news_articles_df"
      ],
      "execution_count": 3,
      "outputs": []
    },
    {
      "cell_type": "code",
      "metadata": {
        "id": "hdSjmD-46E24"
      },
      "source": [
        "cnn_covidf = get_news_articles(\"cnn.com\",\"covid\")     #cnn covid frame\n",
        "fox_covidf = get_news_articles(\"foxnews.com\",\"covid\") #fox covid frame"
      ],
      "execution_count": 4,
      "outputs": []
    },
    {
      "cell_type": "code",
      "metadata": {
        "id": "KW_e7z6W6zr4"
      },
      "source": [
        "def get_senti_frame(frame = None, download = False):\n",
        "\n",
        "    '''\n",
        "    Returns a dataframe with sentiment scores extracted using nltk vader\n",
        "    Input: pd frame, bool\n",
        "    Output: pd frame\n",
        "    '''\n",
        "    \n",
        "    assert isinstance(download,bool)\n",
        "\n",
        "    from nltk.sentiment.vader import SentimentIntensityAnalyzer as SIA\n",
        "    if(download):nltk.download('vader_lexicon')\n",
        "    sia = SIA()\n",
        "    results = []\n",
        "    titles = frame[\"title\"]\n",
        "\n",
        "    for line in titles:\n",
        "        pol_score = sia.polarity_scores(line)\n",
        "        pol_score['headline'] = line\n",
        "        results.append(pol_score)\n",
        "    \n",
        "    df = pd.DataFrame.from_records(results)\n",
        "    df['label'] = 0\n",
        "    df.loc[df['compound'] > 0.2, 'label'] = 1\n",
        "    df.loc[df['compound'] < -0.2, 'label'] = -1\n",
        "    return df"
      ],
      "execution_count": 5,
      "outputs": []
    },
    {
      "cell_type": "code",
      "metadata": {
        "colab": {
          "base_uri": "https://localhost:8080/"
        },
        "id": "Lk7tj67DHs9R",
        "outputId": "d04385e3-7f34-43fc-9e2f-a2e751e373e9"
      },
      "source": [
        "cnn_sframe = get_senti_frame(cnn_covidf,False)\n",
        "fox_sframe = get_senti_frame(fox_covidf,False)"
      ],
      "execution_count": 6,
      "outputs": [
        {
          "output_type": "stream",
          "name": "stderr",
          "text": [
            "/usr/local/lib/python3.7/dist-packages/nltk/twitter/__init__.py:20: UserWarning: The twython library has not been installed. Some functionality from the twitter package will not be available.\n",
            "  warnings.warn(\"The twython library has not been installed. \"\n"
          ]
        }
      ]
    },
    {
      "cell_type": "markdown",
      "metadata": {
        "id": "FbT8Q-C7JDx8"
      },
      "source": [
        "Here we show the processed sentiment dataframe, where 0 represents neutral, -1 represents negative, and 1 represents postive. Sentiment were calculated based on the headlines of the news"
      ]
    },
    {
      "cell_type": "code",
      "metadata": {
        "colab": {
          "base_uri": "https://localhost:8080/",
          "height": 204
        },
        "id": "IuTlJ1jvIn0s",
        "outputId": "0db69ece-2c57-471f-b7b5-6f655d8cf01a"
      },
      "source": [
        "cnn_sframe.head()"
      ],
      "execution_count": 7,
      "outputs": [
        {
          "output_type": "execute_result",
          "data": {
            "text/html": [
              "<div>\n",
              "<style scoped>\n",
              "    .dataframe tbody tr th:only-of-type {\n",
              "        vertical-align: middle;\n",
              "    }\n",
              "\n",
              "    .dataframe tbody tr th {\n",
              "        vertical-align: top;\n",
              "    }\n",
              "\n",
              "    .dataframe thead th {\n",
              "        text-align: right;\n",
              "    }\n",
              "</style>\n",
              "<table border=\"1\" class=\"dataframe\">\n",
              "  <thead>\n",
              "    <tr style=\"text-align: right;\">\n",
              "      <th></th>\n",
              "      <th>neg</th>\n",
              "      <th>neu</th>\n",
              "      <th>pos</th>\n",
              "      <th>compound</th>\n",
              "      <th>headline</th>\n",
              "      <th>label</th>\n",
              "    </tr>\n",
              "  </thead>\n",
              "  <tbody>\n",
              "    <tr>\n",
              "      <th>0</th>\n",
              "      <td>0.000</td>\n",
              "      <td>1.000</td>\n",
              "      <td>0.000</td>\n",
              "      <td>0.0000</td>\n",
              "      <td>These Southern states have fully vaccinated le...</td>\n",
              "      <td>0</td>\n",
              "    </tr>\n",
              "    <tr>\n",
              "      <th>1</th>\n",
              "      <td>0.000</td>\n",
              "      <td>1.000</td>\n",
              "      <td>0.000</td>\n",
              "      <td>0.0000</td>\n",
              "      <td>Republican gubernatorial candidate Allen West ...</td>\n",
              "      <td>0</td>\n",
              "    </tr>\n",
              "    <tr>\n",
              "      <th>2</th>\n",
              "      <td>0.169</td>\n",
              "      <td>0.390</td>\n",
              "      <td>0.442</td>\n",
              "      <td>0.6369</td>\n",
              "      <td>Indian homegrown Covid-19 shot wins WHO emerge...</td>\n",
              "      <td>1</td>\n",
              "    </tr>\n",
              "    <tr>\n",
              "      <th>3</th>\n",
              "      <td>0.000</td>\n",
              "      <td>0.729</td>\n",
              "      <td>0.271</td>\n",
              "      <td>0.3818</td>\n",
              "      <td>Opinion: How to protect pregnant people from C...</td>\n",
              "      <td>1</td>\n",
              "    </tr>\n",
              "    <tr>\n",
              "      <th>4</th>\n",
              "      <td>0.000</td>\n",
              "      <td>1.000</td>\n",
              "      <td>0.000</td>\n",
              "      <td>0.0000</td>\n",
              "      <td>Conservative radio host says he wanted to catc...</td>\n",
              "      <td>0</td>\n",
              "    </tr>\n",
              "  </tbody>\n",
              "</table>\n",
              "</div>"
            ],
            "text/plain": [
              "     neg    neu  ...                                           headline  label\n",
              "0  0.000  1.000  ...  These Southern states have fully vaccinated le...      0\n",
              "1  0.000  1.000  ...  Republican gubernatorial candidate Allen West ...      0\n",
              "2  0.169  0.390  ...  Indian homegrown Covid-19 shot wins WHO emerge...      1\n",
              "3  0.000  0.729  ...  Opinion: How to protect pregnant people from C...      1\n",
              "4  0.000  1.000  ...  Conservative radio host says he wanted to catc...      0\n",
              "\n",
              "[5 rows x 6 columns]"
            ]
          },
          "metadata": {},
          "execution_count": 7
        }
      ]
    },
    {
      "cell_type": "markdown",
      "metadata": {
        "id": "Rh0xHr-eJUBa"
      },
      "source": [
        "Next, we show some samples of the postively labeled  ande negative sentiment headlines"
      ]
    },
    {
      "cell_type": "code",
      "metadata": {
        "colab": {
          "base_uri": "https://localhost:8080/"
        },
        "id": "4PFUZTVgJPmA",
        "outputId": "e0f3628e-de09-4687-c039-dd90af1ad7a7"
      },
      "source": [
        "positive_cnn = cnn_sframe[cnn_sframe[\"label\"] == 1][\"headline\"]\n",
        "print(positive_cnn.iloc[0])\n",
        "print(positive_cnn.iloc[2])\n",
        "print(positive_cnn.iloc[5])"
      ],
      "execution_count": 8,
      "outputs": [
        {
          "output_type": "stream",
          "name": "stdout",
          "text": [
            "Indian homegrown Covid-19 shot wins WHO emergency use approval\n",
            "Federal judge allows health care workers in New York to apply for religious exemptions to Covid-19 vaccine mandate\n",
            "Top Biden official held calls with airline executives to push for vaccine mandates\n"
          ]
        }
      ]
    },
    {
      "cell_type": "code",
      "metadata": {
        "colab": {
          "base_uri": "https://localhost:8080/"
        },
        "id": "xWfVYRYvJq5C",
        "outputId": "df702791-9fab-47c6-db60-0c7d160b6f5e"
      },
      "source": [
        "positive_cnn = cnn_sframe[cnn_sframe[\"label\"] == -1][\"headline\"]\n",
        "print(positive_cnn.iloc[0])\n",
        "print(positive_cnn.iloc[2])\n",
        "print(positive_cnn.iloc[5])"
      ],
      "execution_count": 9,
      "outputs": [
        {
          "output_type": "stream",
          "name": "stdout",
          "text": [
            "Biden administration blames ongoing pandemic fears for disappointing jobs report\n",
            "Fired Washington State head football coach to file lawsuit over 'unjust and unlawful' termination\n",
            "Opinion: Texas governor's blatant hypocrisy puts lives at risk\n"
          ]
        }
      ]
    },
    {
      "cell_type": "code",
      "metadata": {
        "id": "e76lE5bEIUjV"
      },
      "source": [
        "import matplotlib.pyplot as plt\n",
        "import seaborn as sns\n",
        "\n",
        "def plot(df,title:str):\n",
        "    '''\n",
        "      Given a sentiment frame, plot the sentiment\n",
        "    '''\n",
        "  \n",
        "    assert isinstance(title,str)\n",
        "\n",
        "    fig, ax = plt.subplots(figsize=(8, 8))\n",
        "\n",
        "    counts = df.label.value_counts(normalize=True) * 100\n",
        "\n",
        "    sns.barplot(x=counts.index, y=counts, ax=ax)\n",
        "\n",
        "    ax.set_xticklabels(['Negative', 'Neutral', 'Positive'])\n",
        "    ax.set_ylabel(\"Percentage\")\n",
        "    ax.set_title(title)\n",
        "    plt.show()"
      ],
      "execution_count": 46,
      "outputs": []
    },
    {
      "cell_type": "code",
      "metadata": {
        "colab": {
          "base_uri": "https://localhost:8080/",
          "height": 499
        },
        "id": "g_Rlf0jdLAo2",
        "outputId": "88bf9b95-80d1-48a8-b6cf-27fc1e186b74"
      },
      "source": [
        "plot(cnn_sframe,\"Sentiment Distribution of CNN news related to COVID\")"
      ],
      "execution_count": 47,
      "outputs": [
        {
          "output_type": "display_data",
          "data": {
            "image/png": "[encoded data removed]",
            "text/plain": [
              "<Figure size 576x576 with 1 Axes>"
            ]
          },
          "metadata": {
            "needs_background": "light"
          }
        }
      ]
    },
    {
      "cell_type": "code",
      "metadata": {
        "colab": {
          "base_uri": "https://localhost:8080/",
          "height": 499
        },
        "id": "84PbWm22Lx4k",
        "outputId": "46ef97da-b2bd-4787-8535-10fd5d9d46c7"
      },
      "source": [
        "plot(fox_sframe,\"Sentiment Distribution of FOX news related to COVID\")"
      ],
      "execution_count": 48,
      "outputs": [
        {
          "output_type": "display_data",
          "data": {
            "image/png": "[encoded data removed]",
            "text/plain": [
              "<Figure size 576x576 with 1 Axes>"
            ]
          },
          "metadata": {
            "needs_background": "light"
          }
        }
      ]
    },
    {
      "cell_type": "code",
      "metadata": {
        "id": "CHAwJkUTNbkS"
      },
      "source": [
        "def get_word_freq(sframe,label,topk = 20,download = False):\n",
        "    '''\n",
        "    Returns the top words in the headlines given the label{1(pos), -1(negative)}\n",
        "    Input: data frame,data frame, int, int, bool\n",
        "          sframe: sentiment frame, df: news dataframe\n",
        "    Output: list of dict \n",
        "    '''\n",
        "\n",
        "    assert isinstance(label,int)\n",
        "    assert isinstance(download,bool)\n",
        "\n",
        "    from nltk.corpus import stopwords\n",
        "    from nltk.tokenize import word_tokenize, RegexpTokenizer\n",
        "    tokenizer = RegexpTokenizer(r'\\w+')\n",
        "    if download: nltk.download('stopwords')\n",
        "\n",
        "    stop_words = stopwords.words('english')\n",
        "    tokens = []\n",
        "\n",
        "\n",
        "    pos_lines = list(sframe[sframe.label == label].headline)\n",
        "\n",
        "    for line in pos_lines:\n",
        "        toks = tokenizer.tokenize(line)\n",
        "        toks = [t.lower() for t in toks if t.lower() not in stop_words]\n",
        "        tokens.extend(toks)\n",
        "    \n",
        "    pos_freq = nltk.FreqDist(tokens)\n",
        "    return pos_freq.most_common(topk) if topk is not None else pos_freq.most_common()\n",
        "\n",
        "    "
      ],
      "execution_count": 49,
      "outputs": []
    },
    {
      "cell_type": "code",
      "metadata": {
        "colab": {
          "base_uri": "https://localhost:8080/"
        },
        "id": "btgzBTVeOVYo",
        "outputId": "3f9b628a-20aa-443d-91b2-50d32704707a"
      },
      "source": [
        "cnn_pos = get_word_freq(cnn_sframe,label = 1, topk = None)\n",
        "print(cnn_pos[:20])\n",
        "cnn_neg = get_word_freq(cnn_sframe,label = -1, topk = None)\n",
        "print(cnn_neg[:20])"
      ],
      "execution_count": 50,
      "outputs": [
        {
          "output_type": "stream",
          "name": "stdout",
          "text": [
            "[('covid', 9), ('19', 5), ('vaccinated', 5), ('vaccine', 4), ('get', 3), ('use', 2), ('opinion', 2), ('people', 2), ('new', 2), ('mandate', 2), ('even', 2), ('show', 2), ('biden', 2), ('us', 2), ('ease', 2), ('travel', 2), ('restrictions', 2), ('travelers', 2), ('allow', 2), ('tourists', 2)]\n",
            "[('covid', 9), ('19', 6), ('washington', 3), ('pandemic', 2), ('report', 2), ('state', 2), ('head', 2), ('football', 2), ('coach', 2), ('vaccine', 2), ('died', 2), ('j', 2), ('opinion', 2), ('texas', 2), ('new', 2), ('robert', 2), ('durst', 2), ('murder', 2), ('us', 2), ('china', 2)]\n"
          ]
        }
      ]
    },
    {
      "cell_type": "code",
      "metadata": {
        "colab": {
          "base_uri": "https://localhost:8080/"
        },
        "id": "lOsGq9Z4T9vH",
        "outputId": "bbf45e71-2104-450a-b65f-c400fa732f32"
      },
      "source": [
        "fox_pos = get_word_freq(fox_sframe,label = 1, topk = None)\n",
        "print(cnn_pos[:20])\n",
        "fox_neg = get_word_freq(fox_sframe,label = -1, topk = None)\n",
        "print(cnn_neg[:20])"
      ],
      "execution_count": 51,
      "outputs": [
        {
          "output_type": "stream",
          "name": "stdout",
          "text": [
            "[('covid', 9), ('19', 5), ('vaccinated', 5), ('vaccine', 4), ('get', 3), ('use', 2), ('opinion', 2), ('people', 2), ('new', 2), ('mandate', 2), ('even', 2), ('show', 2), ('biden', 2), ('us', 2), ('ease', 2), ('travel', 2), ('restrictions', 2), ('travelers', 2), ('allow', 2), ('tourists', 2)]\n",
            "[('covid', 9), ('19', 6), ('washington', 3), ('pandemic', 2), ('report', 2), ('state', 2), ('head', 2), ('football', 2), ('coach', 2), ('vaccine', 2), ('died', 2), ('j', 2), ('opinion', 2), ('texas', 2), ('new', 2), ('robert', 2), ('durst', 2), ('murder', 2), ('us', 2), ('china', 2)]\n"
          ]
        }
      ]
    },
    {
      "cell_type": "code",
      "metadata": {
        "colab": {
          "base_uri": "https://localhost:8080/",
          "height": 350
        },
        "id": "syGiBTlIXhRU",
        "outputId": "66695890-8d39-45f8-958b-f582ede6a723"
      },
      "source": [
        "positive = sorted(fox_pos + cnn_pos,key = lambda i: -i[1])\n",
        "y_val = [x[1] for x in positive]\n",
        "fig = plt.figure(figsize=(10,5))\n",
        "plt.plot(y_val)\n",
        "\n",
        "plt.xlabel(\"Words\")\n",
        "plt.ylabel(\"Frequency\")\n",
        "plt.title(\"Word Frequency Distribution (Positive Articles)\")\n",
        "plt.show()"
      ],
      "execution_count": 52,
      "outputs": [
        {
          "output_type": "display_data",
          "data": {
            "image/png": "[encoded data removed]",
            "text/plain": [
              "<Figure size 720x360 with 1 Axes>"
            ]
          },
          "metadata": {
            "needs_background": "light"
          }
        }
      ]
    },
    {
      "cell_type": "code",
      "metadata": {
        "colab": {
          "base_uri": "https://localhost:8080/",
          "height": 350
        },
        "id": "kAcTfA4lZCqa",
        "outputId": "1c49f872-c133-41ad-9974-ae64abaf2d27"
      },
      "source": [
        "negative =sorted(fox_neg + cnn_neg,key = lambda i: -i[1])\n",
        "y_val = [x[1] for x in negative]\n",
        "fig = plt.figure(figsize=(10,5))\n",
        "plt.plot(y_val)\n",
        "\n",
        "plt.xlabel(\"Words\")\n",
        "plt.ylabel(\"Frequency\")\n",
        "plt.title(\"Word Frequency Distribution (Negative Articles)\")\n",
        "plt.show()"
      ],
      "execution_count": 53,
      "outputs": [
        {
          "output_type": "display_data",
          "data": {
            "image/png": "[encoded data removed]",
            "text/plain": [
              "<Figure size 720x360 with 1 Axes>"
            ]
          },
          "metadata": {
            "needs_background": "light"
          }
        }
      ]
    }
  ]
}